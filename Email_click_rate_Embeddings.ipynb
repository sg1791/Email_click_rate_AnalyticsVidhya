{
  "nbformat": 4,
  "nbformat_minor": 0,
  "metadata": {
    "colab": {
      "name": "Email_click_rate-Embeddings.ipynb",
      "version": "0.3.2",
      "provenance": [],
      "collapsed_sections": [
        "uNy19AWGy0C_"
      ]
    },
    "kernelspec": {
      "display_name": "Python 3",
      "language": "python",
      "name": "python3"
    },
    "accelerator": "GPU"
  },
  "cells": [
    {
      "cell_type": "markdown",
      "metadata": {
        "id": "view-in-github",
        "colab_type": "text"
      },
      "source": [
        "[View in Colaboratory](https://colab.research.google.com/github/shivamgoel1791/Email_click_rate_AnalyticsVidhya/blob/master/Email_click_rate_Embeddings.ipynb)"
      ]
    },
    {
      "metadata": {
        "id": "2PhSrXVRyz2M",
        "colab_type": "text"
      },
      "cell_type": "markdown",
      "source": [
        "## Email click rate embeddings"
      ]
    },
    {
      "metadata": {
        "id": "owSvtnrAyz2Q",
        "colab_type": "code",
        "colab": {}
      },
      "cell_type": "code",
      "source": [
        "%reload_ext autoreload\n",
        "%autoreload 2\n",
        "%matplotlib inline\n",
        "\n",
        "from fastai.learner import *\n",
        "from fastai.column_data import *"
      ],
      "execution_count": 0,
      "outputs": []
    },
    {
      "metadata": {
        "id": "bH_7x3nnzWPU",
        "colab_type": "code",
        "colab": {
          "resources": {
            "http://localhost:8080/nbextensions/google.colab/files.js": {
              "data": "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",
              "ok": true,
              "headers": [
                [
                  "content-type",
                  "application/javascript"
                ]
              ],
              "status": 200,
              "status_text": ""
            }
          },
          "base_uri": "https://localhost:8080/",
          "height": 72
        },
        "outputId": "51b469c9-60e0-4f99-8dc9-2b4bb13765d8"
      },
      "cell_type": "code",
      "source": [
        "from google.colab import files\n",
        "uploaded = files.upload()"
      ],
      "execution_count": 58,
      "outputs": [
        {
          "output_type": "display_data",
          "data": {
            "text/html": [
              "\n",
              "     <input type=\"file\" id=\"files-4b2d84e9-4727-422c-bc8d-db7ecf1b629e\" name=\"files[]\" multiple disabled />\n",
              "     <output id=\"result-4b2d84e9-4727-422c-bc8d-db7ecf1b629e\">\n",
              "      Upload widget is only available when the cell has been executed in the\n",
              "      current browser session. Please rerun this cell to enable.\n",
              "      </output>\n",
              "      <script src=\"/nbextensions/google.colab/files.js\"></script> "
            ],
            "text/plain": [
              "<IPython.core.display.HTML object>"
            ]
          },
          "metadata": {
            "tags": []
          }
        },
        {
          "output_type": "stream",
          "text": [
            "Saving campaign_data.csv to campaign_data.csv\n"
          ],
          "name": "stdout"
        }
      ]
    },
    {
      "metadata": {
        "id": "IBzEWZpY2LyH",
        "colab_type": "code",
        "colab": {}
      },
      "cell_type": "code",
      "source": [
        "path = '/content'"
      ],
      "execution_count": 0,
      "outputs": []
    },
    {
      "metadata": {
        "id": "B1eOGdqHyz3N",
        "colab_type": "code",
        "colab": {
          "base_uri": "https://localhost:8080/",
          "height": 51
        },
        "outputId": "a38c5033-b0b1-4ae4-978e-b4b6a0c04626"
      },
      "cell_type": "code",
      "source": [
        "!ls"
      ],
      "execution_count": 60,
      "outputs": [
        {
          "output_type": "stream",
          "text": [
            "campaign_data.csv  datalab  fastai  tmp\t\t train.csv\r\n",
            "data\t\t   drive    models  train_1.csv\r\n"
          ],
          "name": "stdout"
        }
      ]
    },
    {
      "metadata": {
        "id": "O2ArKLnfPxE7",
        "colab_type": "code",
        "colab": {}
      },
      "cell_type": "code",
      "source": [
        "#!rm -rf models"
      ],
      "execution_count": 0,
      "outputs": []
    },
    {
      "metadata": {
        "id": "IiKJghblyz3e",
        "colab_type": "text"
      },
      "cell_type": "markdown",
      "source": [
        "We're working with the movielens data, which contains one rating per row, like this:"
      ]
    },
    {
      "metadata": {
        "id": "Jja5YwxLyz3i",
        "colab_type": "code",
        "colab": {
          "base_uri": "https://localhost:8080/",
          "height": 204
        },
        "outputId": "b97ab452-4930-4cd9-9076-1223f4bd2f9f"
      },
      "cell_type": "code",
      "source": [
        "ratings = pd.read_csv('train_1.csv')\n",
        "ratings.head()"
      ],
      "execution_count": 9,
      "outputs": [
        {
          "output_type": "execute_result",
          "data": {
            "text/html": [
              "<div>\n",
              "<style scoped>\n",
              "    .dataframe tbody tr th:only-of-type {\n",
              "        vertical-align: middle;\n",
              "    }\n",
              "\n",
              "    .dataframe tbody tr th {\n",
              "        vertical-align: top;\n",
              "    }\n",
              "\n",
              "    .dataframe thead th {\n",
              "        text-align: right;\n",
              "    }\n",
              "</style>\n",
              "<table border=\"1\" class=\"dataframe\">\n",
              "  <thead>\n",
              "    <tr style=\"text-align: right;\">\n",
              "      <th></th>\n",
              "      <th>id</th>\n",
              "      <th>user_id</th>\n",
              "      <th>campaign_id</th>\n",
              "      <th>send_date</th>\n",
              "      <th>is_open</th>\n",
              "      <th>is_click</th>\n",
              "    </tr>\n",
              "  </thead>\n",
              "  <tbody>\n",
              "    <tr>\n",
              "      <th>0</th>\n",
              "      <td>42_14051</td>\n",
              "      <td>14051</td>\n",
              "      <td>42</td>\n",
              "      <td>01-09-2017 19:55</td>\n",
              "      <td>0</td>\n",
              "      <td>0</td>\n",
              "    </tr>\n",
              "    <tr>\n",
              "      <th>1</th>\n",
              "      <td>52_134438</td>\n",
              "      <td>134438</td>\n",
              "      <td>52</td>\n",
              "      <td>02-11-2017 12:53</td>\n",
              "      <td>0</td>\n",
              "      <td>0</td>\n",
              "    </tr>\n",
              "    <tr>\n",
              "      <th>2</th>\n",
              "      <td>33_181789</td>\n",
              "      <td>181789</td>\n",
              "      <td>33</td>\n",
              "      <td>24-07-2017 15:15</td>\n",
              "      <td>0</td>\n",
              "      <td>0</td>\n",
              "    </tr>\n",
              "    <tr>\n",
              "      <th>3</th>\n",
              "      <td>44_231448</td>\n",
              "      <td>231448</td>\n",
              "      <td>44</td>\n",
              "      <td>05-09-2017 11:36</td>\n",
              "      <td>0</td>\n",
              "      <td>0</td>\n",
              "    </tr>\n",
              "    <tr>\n",
              "      <th>4</th>\n",
              "      <td>29_185580</td>\n",
              "      <td>185580</td>\n",
              "      <td>29</td>\n",
              "      <td>01-07-2017 18:01</td>\n",
              "      <td>0</td>\n",
              "      <td>0</td>\n",
              "    </tr>\n",
              "  </tbody>\n",
              "</table>\n",
              "</div>"
            ],
            "text/plain": [
              "          id  user_id  campaign_id         send_date  is_open  is_click\n",
              "0   42_14051    14051           42  01-09-2017 19:55        0         0\n",
              "1  52_134438   134438           52  02-11-2017 12:53        0         0\n",
              "2  33_181789   181789           33  24-07-2017 15:15        0         0\n",
              "3  44_231448   231448           44  05-09-2017 11:36        0         0\n",
              "4  29_185580   185580           29  01-07-2017 18:01        0         0"
            ]
          },
          "metadata": {
            "tags": []
          },
          "execution_count": 9
        }
      ]
    },
    {
      "metadata": {
        "id": "9gM5ZE78fmNq",
        "colab_type": "code",
        "colab": {
          "base_uri": "https://localhost:8080/",
          "height": 632
        },
        "outputId": "4c9831c4-7bcd-4d50-f240-18272dd36e4e"
      },
      "cell_type": "code",
      "source": [
        "movies = pd.read_csv('campaign_data.csv')\n",
        "movies.head()"
      ],
      "execution_count": 61,
      "outputs": [
        {
          "output_type": "execute_result",
          "data": {
            "text/html": [
              "<div>\n",
              "<style scoped>\n",
              "    .dataframe tbody tr th:only-of-type {\n",
              "        vertical-align: middle;\n",
              "    }\n",
              "\n",
              "    .dataframe tbody tr th {\n",
              "        vertical-align: top;\n",
              "    }\n",
              "\n",
              "    .dataframe thead th {\n",
              "        text-align: right;\n",
              "    }\n",
              "</style>\n",
              "<table border=\"1\" class=\"dataframe\">\n",
              "  <thead>\n",
              "    <tr style=\"text-align: right;\">\n",
              "      <th></th>\n",
              "      <th>campaign_id</th>\n",
              "      <th>communication_type</th>\n",
              "      <th>total_links</th>\n",
              "      <th>no_of_internal_links</th>\n",
              "      <th>no_of_images</th>\n",
              "      <th>no_of_sections</th>\n",
              "      <th>email_body</th>\n",
              "      <th>subject</th>\n",
              "      <th>email_url</th>\n",
              "    </tr>\n",
              "  </thead>\n",
              "  <tbody>\n",
              "    <tr>\n",
              "      <th>0</th>\n",
              "      <td>29</td>\n",
              "      <td>Newsletter</td>\n",
              "      <td>67</td>\n",
              "      <td>61</td>\n",
              "      <td>12</td>\n",
              "      <td>3</td>\n",
              "      <td>Dear AVians,\\r\\n \\r\\nWe are shaping up a super...</td>\n",
              "      <td>Sneak Peek: A look at the emerging data scienc...</td>\n",
              "      <td>http://r.newsletters.analyticsvidhya.com/7um44...</td>\n",
              "    </tr>\n",
              "    <tr>\n",
              "      <th>1</th>\n",
              "      <td>30</td>\n",
              "      <td>Upcoming Events</td>\n",
              "      <td>18</td>\n",
              "      <td>14</td>\n",
              "      <td>7</td>\n",
              "      <td>1</td>\n",
              "      <td>Dear AVians,\\r\\n \\r\\nAre your eager to know wh...</td>\n",
              "      <td>[July] Data Science Expert Meetups &amp; Competiti...</td>\n",
              "      <td>http://r.newsletters.analyticsvidhya.com/7up0e...</td>\n",
              "    </tr>\n",
              "    <tr>\n",
              "      <th>2</th>\n",
              "      <td>31</td>\n",
              "      <td>Conference</td>\n",
              "      <td>15</td>\n",
              "      <td>13</td>\n",
              "      <td>5</td>\n",
              "      <td>1</td>\n",
              "      <td>Early Bird Pricing Till August 07  Save upto ...</td>\n",
              "      <td>Last chance to convince your boss before the E...</td>\n",
              "      <td>http://r.newsletters.analyticsvidhya.com/7usym...</td>\n",
              "    </tr>\n",
              "    <tr>\n",
              "      <th>3</th>\n",
              "      <td>32</td>\n",
              "      <td>Conference</td>\n",
              "      <td>24</td>\n",
              "      <td>19</td>\n",
              "      <td>7</td>\n",
              "      <td>1</td>\n",
              "      <td>\\r\\n \\r\\nHi ?\\r\\n \\r\\nBefore I dive into why y...</td>\n",
              "      <td>A.I. &amp; Machine Learning: 5 reasons why you sho...</td>\n",
              "      <td>http://r.newsletters.analyticsvidhya.com/7uthl...</td>\n",
              "    </tr>\n",
              "    <tr>\n",
              "      <th>4</th>\n",
              "      <td>33</td>\n",
              "      <td>Others</td>\n",
              "      <td>7</td>\n",
              "      <td>3</td>\n",
              "      <td>1</td>\n",
              "      <td>1</td>\n",
              "      <td>Fireside Chat with DJ Patil - the master is he...</td>\n",
              "      <td>[Delhi NCR] Fireside Chat with DJ Patil, Forme...</td>\n",
              "      <td>http://r.newsletters.analyticsvidhya.com/7uvlg...</td>\n",
              "    </tr>\n",
              "  </tbody>\n",
              "</table>\n",
              "</div>"
            ],
            "text/plain": [
              "   campaign_id communication_type  total_links  no_of_internal_links  \\\n",
              "0           29         Newsletter           67                    61   \n",
              "1           30    Upcoming Events           18                    14   \n",
              "2           31         Conference           15                    13   \n",
              "3           32         Conference           24                    19   \n",
              "4           33             Others            7                     3   \n",
              "\n",
              "   no_of_images  no_of_sections  \\\n",
              "0            12               3   \n",
              "1             7               1   \n",
              "2             5               1   \n",
              "3             7               1   \n",
              "4             1               1   \n",
              "\n",
              "                                          email_body  \\\n",
              "0  Dear AVians,\\r\\n \\r\\nWe are shaping up a super...   \n",
              "1  Dear AVians,\\r\\n \\r\\nAre your eager to know wh...   \n",
              "2  Early Bird Pricing Till August 07  Save upto ...   \n",
              "3  \\r\\n \\r\\nHi ?\\r\\n \\r\\nBefore I dive into why y...   \n",
              "4  Fireside Chat with DJ Patil - the master is he...   \n",
              "\n",
              "                                             subject  \\\n",
              "0  Sneak Peek: A look at the emerging data scienc...   \n",
              "1  [July] Data Science Expert Meetups & Competiti...   \n",
              "2  Last chance to convince your boss before the E...   \n",
              "3  A.I. & Machine Learning: 5 reasons why you sho...   \n",
              "4  [Delhi NCR] Fireside Chat with DJ Patil, Forme...   \n",
              "\n",
              "                                           email_url  \n",
              "0  http://r.newsletters.analyticsvidhya.com/7um44...  \n",
              "1  http://r.newsletters.analyticsvidhya.com/7up0e...  \n",
              "2  http://r.newsletters.analyticsvidhya.com/7usym...  \n",
              "3  http://r.newsletters.analyticsvidhya.com/7uthl...  \n",
              "4  http://r.newsletters.analyticsvidhya.com/7uvlg...  "
            ]
          },
          "metadata": {
            "tags": []
          },
          "execution_count": 61
        }
      ]
    },
    {
      "metadata": {
        "id": "SgM1oeKLyz4l",
        "colab_type": "text"
      },
      "cell_type": "markdown",
      "source": [
        "## Collaborative filtering"
      ]
    },
    {
      "metadata": {
        "id": "XYzCqLI2yz4o",
        "colab_type": "code",
        "colab": {}
      },
      "cell_type": "code",
      "source": [
        "val_idxs = get_cv_idxs(len(ratings))\n",
        "wd=2e-4\n",
        "n_factors = 5"
      ],
      "execution_count": 0,
      "outputs": []
    },
    {
      "metadata": {
        "id": "VtLmgZ8Cyz4y",
        "colab_type": "code",
        "colab": {}
      },
      "cell_type": "code",
      "source": [
        "cf = CollabFilterDataset.from_csv(path, 'train.csv', 'user_id', 'campaign_id', 'is_open')\n",
        "learn = cf.get_learner(n_factors, val_idxs, 64, opt_fn=optim.Adam)"
      ],
      "execution_count": 0,
      "outputs": []
    },
    {
      "metadata": {
        "id": "bjsQIlK_yz4-",
        "colab_type": "code",
        "colab": {
          "base_uri": "https://localhost:8080/",
          "height": 102
        },
        "outputId": "e3d19b79-1daa-46cc-da75-fb05fd99d3a0"
      },
      "cell_type": "code",
      "source": [
        "learn.fit(1e-2, 1, wds=wd, cycle_len=1, cycle_mult=1)"
      ],
      "execution_count": 115,
      "outputs": [
        {
          "output_type": "stream",
          "text": [
            "Widget Javascript not detected.  It may not be installed or enabled properly.\n"
          ],
          "name": "stderr"
        },
        {
          "output_type": "display_data",
          "data": {
            "application/vnd.jupyter.widget-view+json": {
              "model_id": "a5ef04f76f754b8eaebf573776a7d5dd"
            }
          },
          "metadata": {
            "tags": []
          }
        },
        {
          "output_type": "stream",
          "text": [
            "epoch      trn_loss   val_loss   \n",
            "    0      0.084873   0.086543  \n",
            "\n"
          ],
          "name": "stdout"
        },
        {
          "output_type": "execute_result",
          "data": {
            "text/plain": [
              "[0.086542755]"
            ]
          },
          "metadata": {
            "tags": []
          },
          "execution_count": 115
        }
      ]
    },
    {
      "metadata": {
        "id": "UjtZ_v8tyz5L",
        "colab_type": "text"
      },
      "cell_type": "markdown",
      "source": [
        "Let's compare to some benchmarks. Here's [some benchmarks](https://www.librec.net/release/v1.3/example.html) on the same dataset for the popular Librec system for collaborative filtering. They show best results based on [RMSE](http://www.statisticshowto.com/rmse/) of 0.91. We'll need to take the square root of our loss, since we use plain MSE."
      ]
    },
    {
      "metadata": {
        "id": "mB1iiF5kyz5O",
        "colab_type": "code",
        "colab": {
          "base_uri": "https://localhost:8080/",
          "height": 34
        },
        "outputId": "9d032061-6a49-4ceb-c06f-3250ce0d0113"
      },
      "cell_type": "code",
      "source": [
        "math.sqrt(0.086542755)"
      ],
      "execution_count": 117,
      "outputs": [
        {
          "output_type": "execute_result",
          "data": {
            "text/plain": [
              "0.2941815000981537"
            ]
          },
          "metadata": {
            "tags": []
          },
          "execution_count": 117
        }
      ]
    },
    {
      "metadata": {
        "id": "WEfAZUjCyz5c",
        "colab_type": "text"
      },
      "cell_type": "markdown",
      "source": [
        "Looking good - we've found a solution better than any of those benchmarks! Let's take a look at how the predictions compare to actuals for this model."
      ]
    },
    {
      "metadata": {
        "id": "ZM0nKJYnyz5e",
        "colab_type": "code",
        "colab": {}
      },
      "cell_type": "code",
      "source": [
        "preds = learn.predict()"
      ],
      "execution_count": 0,
      "outputs": []
    },
    {
      "metadata": {
        "id": "VUXq7Ldsyz5u",
        "colab_type": "code",
        "colab": {
          "base_uri": "https://localhost:8080/",
          "height": 441
        },
        "outputId": "306bc47f-3ea0-487f-ba4d-c76f746f24f5"
      },
      "cell_type": "code",
      "source": [
        "y=learn.data.val_y\n",
        "sns.jointplot(preds, y, kind='hex', stat_func=None);"
      ],
      "execution_count": 119,
      "outputs": [
        {
          "output_type": "display_data",
          "data": {
            "image/png": "[encoded data removed]",
            "text/plain": [
              "<matplotlib.figure.Figure at 0x7f74e4a4b780>"
            ]
          },
          "metadata": {
            "tags": []
          }
        }
      ]
    },
    {
      "metadata": {
        "id": "t3mq0tUByz6A",
        "colab_type": "text"
      },
      "cell_type": "markdown",
      "source": [
        "## Analyze results"
      ]
    },
    {
      "metadata": {
        "id": "nHlIjQRhyz6F",
        "colab_type": "text"
      },
      "cell_type": "markdown",
      "source": [
        "### Movie bias"
      ]
    },
    {
      "metadata": {
        "id": "lrXmok7Dyz6J",
        "colab_type": "code",
        "colab": {}
      },
      "cell_type": "code",
      "source": [
        "movie_names = movies.set_index('campaign_id')['subject'].to_dict()\n",
        "g=ratings.groupby('campaign_id')['is_open'].count()\n",
        "topMovies=g.sort_values(ascending=False).index.values[:]\n",
        "topMovieIdx = np.array([cf.item2idx[o] for o in topMovies])"
      ],
      "execution_count": 0,
      "outputs": []
    },
    {
      "metadata": {
        "id": "AhWZ-h9ercvP",
        "colab_type": "code",
        "colab": {
          "base_uri": "https://localhost:8080/",
          "height": 282
        },
        "outputId": "1846a27f-01b1-42ab-cc9d-f5a5f477b24b"
      },
      "cell_type": "code",
      "source": [
        "user_ids_names = ratings.set_index('user_id').to_dict()\n",
        "g_user=ratings.groupby('user_id')['is_open'].count()\n",
        "topusers=g_user.sort_values(ascending=False).index.values[:]\n",
        "#topUsersIdx = np.array([cf.item2idx[o] for o in topusers])"
      ],
      "execution_count": 142,
      "outputs": [
        {
          "output_type": "error",
          "ename": "KeyError",
          "evalue": "ignored",
          "traceback": [
            "\u001b[0;31m---------------------------------------------------------------------------\u001b[0m",
            "\u001b[0;31mKeyError\u001b[0m                                  Traceback (most recent call last)",
            "\u001b[0;32m<ipython-input-142-6dbace2f1550>\u001b[0m in \u001b[0;36m<module>\u001b[0;34m()\u001b[0m\n\u001b[1;32m      2\u001b[0m \u001b[0mg_user\u001b[0m\u001b[0;34m=\u001b[0m\u001b[0mratings\u001b[0m\u001b[0;34m.\u001b[0m\u001b[0mgroupby\u001b[0m\u001b[0;34m(\u001b[0m\u001b[0;34m'user_id'\u001b[0m\u001b[0;34m)\u001b[0m\u001b[0;34m[\u001b[0m\u001b[0;34m'is_open'\u001b[0m\u001b[0;34m]\u001b[0m\u001b[0;34m.\u001b[0m\u001b[0mcount\u001b[0m\u001b[0;34m(\u001b[0m\u001b[0;34m)\u001b[0m\u001b[0;34m\u001b[0m\u001b[0m\n\u001b[1;32m      3\u001b[0m \u001b[0mtopusers\u001b[0m\u001b[0;34m=\u001b[0m\u001b[0mg_user\u001b[0m\u001b[0;34m.\u001b[0m\u001b[0msort_values\u001b[0m\u001b[0;34m(\u001b[0m\u001b[0mascending\u001b[0m\u001b[0;34m=\u001b[0m\u001b[0;32mFalse\u001b[0m\u001b[0;34m)\u001b[0m\u001b[0;34m.\u001b[0m\u001b[0mindex\u001b[0m\u001b[0;34m.\u001b[0m\u001b[0mvalues\u001b[0m\u001b[0;34m[\u001b[0m\u001b[0;34m:\u001b[0m\u001b[0;34m]\u001b[0m\u001b[0;34m\u001b[0m\u001b[0m\n\u001b[0;32m----> 4\u001b[0;31m \u001b[0mtopUsersIdx\u001b[0m \u001b[0;34m=\u001b[0m \u001b[0;34m[\u001b[0m\u001b[0mcf\u001b[0m\u001b[0;34m.\u001b[0m\u001b[0mitem2idx\u001b[0m\u001b[0;34m[\u001b[0m\u001b[0mp\u001b[0m\u001b[0;34m]\u001b[0m \u001b[0;32mfor\u001b[0m \u001b[0mp\u001b[0m \u001b[0;32min\u001b[0m \u001b[0mtopusers\u001b[0m\u001b[0;34m]\u001b[0m\u001b[0;34m\u001b[0m\u001b[0m\n\u001b[0m",
            "\u001b[0;32m<ipython-input-142-6dbace2f1550>\u001b[0m in \u001b[0;36m<listcomp>\u001b[0;34m(.0)\u001b[0m\n\u001b[1;32m      2\u001b[0m \u001b[0mg_user\u001b[0m\u001b[0;34m=\u001b[0m\u001b[0mratings\u001b[0m\u001b[0;34m.\u001b[0m\u001b[0mgroupby\u001b[0m\u001b[0;34m(\u001b[0m\u001b[0;34m'user_id'\u001b[0m\u001b[0;34m)\u001b[0m\u001b[0;34m[\u001b[0m\u001b[0;34m'is_open'\u001b[0m\u001b[0;34m]\u001b[0m\u001b[0;34m.\u001b[0m\u001b[0mcount\u001b[0m\u001b[0;34m(\u001b[0m\u001b[0;34m)\u001b[0m\u001b[0;34m\u001b[0m\u001b[0m\n\u001b[1;32m      3\u001b[0m \u001b[0mtopusers\u001b[0m\u001b[0;34m=\u001b[0m\u001b[0mg_user\u001b[0m\u001b[0;34m.\u001b[0m\u001b[0msort_values\u001b[0m\u001b[0;34m(\u001b[0m\u001b[0mascending\u001b[0m\u001b[0;34m=\u001b[0m\u001b[0;32mFalse\u001b[0m\u001b[0;34m)\u001b[0m\u001b[0;34m.\u001b[0m\u001b[0mindex\u001b[0m\u001b[0;34m.\u001b[0m\u001b[0mvalues\u001b[0m\u001b[0;34m[\u001b[0m\u001b[0;34m:\u001b[0m\u001b[0;34m]\u001b[0m\u001b[0;34m\u001b[0m\u001b[0m\n\u001b[0;32m----> 4\u001b[0;31m \u001b[0mtopUsersIdx\u001b[0m \u001b[0;34m=\u001b[0m \u001b[0;34m[\u001b[0m\u001b[0mcf\u001b[0m\u001b[0;34m.\u001b[0m\u001b[0mitem2idx\u001b[0m\u001b[0;34m[\u001b[0m\u001b[0mp\u001b[0m\u001b[0;34m]\u001b[0m \u001b[0;32mfor\u001b[0m \u001b[0mp\u001b[0m \u001b[0;32min\u001b[0m \u001b[0mtopusers\u001b[0m\u001b[0;34m]\u001b[0m\u001b[0;34m\u001b[0m\u001b[0m\n\u001b[0m",
            "\u001b[0;31mKeyError\u001b[0m: 145022"
          ]
        }
      ]
    },
    {
      "metadata": {
        "id": "hRa48IOIyz6S",
        "colab_type": "code",
        "colab": {
          "base_uri": "https://localhost:8080/",
          "height": 119
        },
        "outputId": "f661e858-d5a3-4918-8df9-a16059b8270c"
      },
      "cell_type": "code",
      "source": [
        "m=learn.model; m.cuda()"
      ],
      "execution_count": 123,
      "outputs": [
        {
          "output_type": "execute_result",
          "data": {
            "text/plain": [
              "EmbeddingDotBias(\n",
              "  (u): Embedding(168236, 5)\n",
              "  (i): Embedding(26, 5)\n",
              "  (ub): Embedding(168236, 1)\n",
              "  (ib): Embedding(26, 1)\n",
              ")"
            ]
          },
          "metadata": {
            "tags": []
          },
          "execution_count": 123
        }
      ]
    },
    {
      "metadata": {
        "id": "ySVOUziWyz6g",
        "colab_type": "text"
      },
      "cell_type": "markdown",
      "source": [
        "First, we'll look at the movie bias term. Here, our input is the movie id (a single id), and the output is the movie bias (a single float)."
      ]
    },
    {
      "metadata": {
        "id": "yDUGo0GHyz6j",
        "colab_type": "code",
        "colab": {}
      },
      "cell_type": "code",
      "source": [
        ""
      ],
      "execution_count": 0,
      "outputs": []
    },
    {
      "metadata": {
        "id": "KBMtQrBAyz8E",
        "colab_type": "code",
        "colab": {
          "base_uri": "https://localhost:8080/",
          "height": 782
        },
        "outputId": "60c147d4-491b-46a3-91b4-b54f66425daf"
      },
      "cell_type": "code",
      "source": [
        "movie_bias = to_np(m.ib(V(topMovieIdx)))\n",
        "movie_ratings = [(b[0], movie_names[i]) for i,b in zip(topMovies,movie_bias)]\n",
        "\n",
        "movie_emb = to_np(m.i(V(topMovieIdx)))\n",
        "movie_ratings_emb = [(b[:], movie_names[i]) for i,b in zip(topMovies,movie_emb)]\n",
        "\n",
        "\n",
        "\n",
        "movie_emb_pd = pd.DataFrame(movie_ratings_emb)\n",
        "movie_emb_pd.to_csv(\"movie_emb_pd.csv\")\n",
        "\n",
        "from google.colab import files\n",
        "files.download(\"movie_emb_pd.csv\")"
      ],
      "execution_count": 131,
      "outputs": [
        {
          "output_type": "execute_result",
          "data": {
            "text/plain": [
              "[(-1.3623328, '[November Updates] - Announcing DataFest 2018, Mumbai'),\n",
              " (-2.465761,\n",
              "  \"[Register Now] Just 2 days to go for India's biggest action in Artificial Intelligence & Machine Learning.\"),\n",
              " (-2.3658864,\n",
              "  '[Newsletter] Stage for DataHack Summit 2017 is set! Announcing new hackathons, articles and job opportunities !'),\n",
              " (-2.3555567,\n",
              "  \"Register @ DataHack Summit 2017 - India's Largest Conference On Artificial Intelligence & Machine Learning\"),\n",
              " (-2.3186877,\n",
              "  '[September] Exciting days ahead with DataHack Summit 2017, Hackathons, Meetups and more!'),\n",
              " (-1.7421385,\n",
              "  'Dr Kirk Borne of Booz Allen Hamilton, to keynote at DataHack Summit 2017'),\n",
              " (-2.3293278,\n",
              "  '[AV Newsletter] Fireside Chat with DJ Patil, DataHack Summit, and much more'),\n",
              " (-1.6443048,\n",
              "  '[July] Data Science Expert Meetups & Competitions coming your way'),\n",
              " (-1.615762,\n",
              "  'A.I. & Machine Learning: 5 reasons why you should attend DataHack Summit 2017'),\n",
              " (-2.2010145, 'Sneak Peek: A look at the emerging data science world !'),\n",
              " (-2.2051353, '[October 2017] - Just a month to go! DataHack Summit 2017'),\n",
              " (-1.2473823,\n",
              "  '[Delhi NCR] Fireside Chat with DJ Patil, Former US Chief Data Scientist'),\n",
              " (-2.125864,\n",
              "  '[October] Data Science Hackathons, Meetups and Webinars coming your way'),\n",
              " (-2.1401932,\n",
              "  '[September] Data Science Hackathons, Meetups and Webinars coming your way'),\n",
              " (-0.85780233,\n",
              "  '[New Hackathon] CodeFest by IIT BHU | Win Prizes worth INR 50,000'),\n",
              " (-0.815479,\n",
              "  '[Starts Tonight] Click Prediction Hackathon | Win upto INR 2 lacs'),\n",
              " (-1.2510474, '[Last Day] Early Bird Offer on conference passes ENDS today'),\n",
              " (-1.4896432, 'Early Bird offer expires in 2 Days. Save your spot now!'),\n",
              " (-0.40845174,\n",
              "  'Click Prediction | Data Science Hackathon | Win upto INR 2 lacs'),\n",
              " (-1.0502617,\n",
              "  'Visualizing Machine Learning with Anand S, CEO of Gramener, at #DHS2017'),\n",
              " (-0.8773264, 'Watch Live: Fireside Chat with DJ Patil'),\n",
              " (-0.52327627,\n",
              "  '[Data Science Hackathons] Cross -Sell & Churn Prediction | Win Prizes ~ INR 1,50,000'),\n",
              " (-0.41918507,\n",
              "  '[New Webinar] Can non programmers join Big Data and Data Science roles?'),\n",
              " (-0.8489358,\n",
              "  'Last chance to convince your boss before the Early Bird expires !'),\n",
              " (-0.8671199,\n",
              "  \"Participate at DataHack Summit 2017 - India's largest A.I. & M.L. Conference\"),\n",
              " (-0.008605252, 'Innovate and grow your business through Data Hackathons')]"
            ]
          },
          "metadata": {
            "tags": []
          },
          "execution_count": 131
        }
      ]
    },
    {
      "metadata": {
        "id": "ZUXZbTAoyz8Y",
        "colab_type": "text"
      },
      "cell_type": "markdown",
      "source": [
        "Now we can look at the top and bottom rated movies. These ratings are corrected for different levels of reviewer sentiment, as well as different types of movies that different reviewers watch."
      ]
    },
    {
      "metadata": {
        "id": "_mqz4goByz8b",
        "colab_type": "code",
        "colab": {
          "base_uri": "https://localhost:8080/",
          "height": 782
        },
        "outputId": "764aca84-7b40-44fc-e103-e6ca0cfdbc54"
      },
      "cell_type": "code",
      "source": [
        "sorted(movie_ratings, key=lambda o: o[0])[:]"
      ],
      "execution_count": 71,
      "outputs": [
        {
          "output_type": "execute_result",
          "data": {
            "text/plain": [
              "[(-2.4668038,\n",
              "  \"[Register Now] Just 2 days to go for India's biggest action in Artificial Intelligence & Machine Learning.\"),\n",
              " (-2.364487,\n",
              "  '[Newsletter] Stage for DataHack Summit 2017 is set! Announcing new hackathons, articles and job opportunities !'),\n",
              " (-2.3513267,\n",
              "  \"Register @ DataHack Summit 2017 - India's Largest Conference On Artificial Intelligence & Machine Learning\"),\n",
              " (-2.346448,\n",
              "  '[AV Newsletter] Fireside Chat with DJ Patil, DataHack Summit, and much more'),\n",
              " (-2.3440156,\n",
              "  '[September] Exciting days ahead with DataHack Summit 2017, Hackathons, Meetups and more!'),\n",
              " (-2.1980112, '[October 2017] - Just a month to go! DataHack Summit 2017'),\n",
              " (-2.1930432, 'Sneak Peek: A look at the emerging data science world !'),\n",
              " (-2.142389,\n",
              "  '[October] Data Science Hackathons, Meetups and Webinars coming your way'),\n",
              " (-2.1156282,\n",
              "  '[September] Data Science Hackathons, Meetups and Webinars coming your way'),\n",
              " (-1.7564697,\n",
              "  'Dr Kirk Borne of Booz Allen Hamilton, to keynote at DataHack Summit 2017'),\n",
              " (-1.6389558,\n",
              "  '[July] Data Science Expert Meetups & Competitions coming your way'),\n",
              " (-1.6215965,\n",
              "  'A.I. & Machine Learning: 5 reasons why you should attend DataHack Summit 2017'),\n",
              " (-1.524699, 'Early Bird offer expires in 2 Days. Save your spot now!'),\n",
              " (-1.3153532, '[November Updates] - Announcing DataFest 2018, Mumbai'),\n",
              " (-1.2473747,\n",
              "  '[Delhi NCR] Fireside Chat with DJ Patil, Former US Chief Data Scientist'),\n",
              " (-1.2417206, '[Last Day] Early Bird Offer on conference passes ENDS today'),\n",
              " (-0.9885325,\n",
              "  'Visualizing Machine Learning with Anand S, CEO of Gramener, at #DHS2017'),\n",
              " (-0.92307377, 'Watch Live: Fireside Chat with DJ Patil'),\n",
              " (-0.89357734,\n",
              "  \"Participate at DataHack Summit 2017 - India's largest A.I. & M.L. Conference\"),\n",
              " (-0.8573242,\n",
              "  '[New Hackathon] CodeFest by IIT BHU | Win Prizes worth INR 50,000'),\n",
              " (-0.8258748,\n",
              "  'Last chance to convince your boss before the Early Bird expires !'),\n",
              " (-0.8246662,\n",
              "  '[Starts Tonight] Click Prediction Hackathon | Win upto INR 2 lacs'),\n",
              " (-0.5566327,\n",
              "  '[Data Science Hackathons] Cross -Sell & Churn Prediction | Win Prizes ~ INR 1,50,000'),\n",
              " (-0.39676368,\n",
              "  '[New Webinar] Can non programmers join Big Data and Data Science roles?'),\n",
              " (-0.3644449,\n",
              "  'Click Prediction | Data Science Hackathon | Win upto INR 2 lacs'),\n",
              " (-0.00617319, 'Innovate and grow your business through Data Hackathons')]"
            ]
          },
          "metadata": {
            "tags": []
          },
          "execution_count": 71
        }
      ]
    },
    {
      "metadata": {
        "id": "0fUGPpC5yz9o",
        "colab_type": "code",
        "colab": {
          "base_uri": "https://localhost:8080/",
          "height": 782
        },
        "outputId": "0e98b52f-44c3-40d1-8313-835ee9a3e6f1"
      },
      "cell_type": "code",
      "source": [
        "sorted(movie_ratings, key=itemgetter(0))[:]"
      ],
      "execution_count": 72,
      "outputs": [
        {
          "output_type": "execute_result",
          "data": {
            "text/plain": [
              "[(-2.4668038,\n",
              "  \"[Register Now] Just 2 days to go for India's biggest action in Artificial Intelligence & Machine Learning.\"),\n",
              " (-2.364487,\n",
              "  '[Newsletter] Stage for DataHack Summit 2017 is set! Announcing new hackathons, articles and job opportunities !'),\n",
              " (-2.3513267,\n",
              "  \"Register @ DataHack Summit 2017 - India's Largest Conference On Artificial Intelligence & Machine Learning\"),\n",
              " (-2.346448,\n",
              "  '[AV Newsletter] Fireside Chat with DJ Patil, DataHack Summit, and much more'),\n",
              " (-2.3440156,\n",
              "  '[September] Exciting days ahead with DataHack Summit 2017, Hackathons, Meetups and more!'),\n",
              " (-2.1980112, '[October 2017] - Just a month to go! DataHack Summit 2017'),\n",
              " (-2.1930432, 'Sneak Peek: A look at the emerging data science world !'),\n",
              " (-2.142389,\n",
              "  '[October] Data Science Hackathons, Meetups and Webinars coming your way'),\n",
              " (-2.1156282,\n",
              "  '[September] Data Science Hackathons, Meetups and Webinars coming your way'),\n",
              " (-1.7564697,\n",
              "  'Dr Kirk Borne of Booz Allen Hamilton, to keynote at DataHack Summit 2017'),\n",
              " (-1.6389558,\n",
              "  '[July] Data Science Expert Meetups & Competitions coming your way'),\n",
              " (-1.6215965,\n",
              "  'A.I. & Machine Learning: 5 reasons why you should attend DataHack Summit 2017'),\n",
              " (-1.524699, 'Early Bird offer expires in 2 Days. Save your spot now!'),\n",
              " (-1.3153532, '[November Updates] - Announcing DataFest 2018, Mumbai'),\n",
              " (-1.2473747,\n",
              "  '[Delhi NCR] Fireside Chat with DJ Patil, Former US Chief Data Scientist'),\n",
              " (-1.2417206, '[Last Day] Early Bird Offer on conference passes ENDS today'),\n",
              " (-0.9885325,\n",
              "  'Visualizing Machine Learning with Anand S, CEO of Gramener, at #DHS2017'),\n",
              " (-0.92307377, 'Watch Live: Fireside Chat with DJ Patil'),\n",
              " (-0.89357734,\n",
              "  \"Participate at DataHack Summit 2017 - India's largest A.I. & M.L. Conference\"),\n",
              " (-0.8573242,\n",
              "  '[New Hackathon] CodeFest by IIT BHU | Win Prizes worth INR 50,000'),\n",
              " (-0.8258748,\n",
              "  'Last chance to convince your boss before the Early Bird expires !'),\n",
              " (-0.8246662,\n",
              "  '[Starts Tonight] Click Prediction Hackathon | Win upto INR 2 lacs'),\n",
              " (-0.5566327,\n",
              "  '[Data Science Hackathons] Cross -Sell & Churn Prediction | Win Prizes ~ INR 1,50,000'),\n",
              " (-0.39676368,\n",
              "  '[New Webinar] Can non programmers join Big Data and Data Science roles?'),\n",
              " (-0.3644449,\n",
              "  'Click Prediction | Data Science Hackathon | Win upto INR 2 lacs'),\n",
              " (-0.00617319, 'Innovate and grow your business through Data Hackathons')]"
            ]
          },
          "metadata": {
            "tags": []
          },
          "execution_count": 72
        }
      ]
    },
    {
      "metadata": {
        "id": "6V7gGkYeyz-X",
        "colab_type": "code",
        "colab": {
          "base_uri": "https://localhost:8080/",
          "height": 782
        },
        "outputId": "9b13355f-cd03-4c09-e682-948dd9067109"
      },
      "cell_type": "code",
      "source": [
        "sorted(movie_ratings, key=lambda o: o[0], reverse=True)[:]"
      ],
      "execution_count": 73,
      "outputs": [
        {
          "output_type": "execute_result",
          "data": {
            "text/plain": [
              "[(-0.00617319, 'Innovate and grow your business through Data Hackathons'),\n",
              " (-0.3644449,\n",
              "  'Click Prediction | Data Science Hackathon | Win upto INR 2 lacs'),\n",
              " (-0.39676368,\n",
              "  '[New Webinar] Can non programmers join Big Data and Data Science roles?'),\n",
              " (-0.5566327,\n",
              "  '[Data Science Hackathons] Cross -Sell & Churn Prediction | Win Prizes ~ INR 1,50,000'),\n",
              " (-0.8246662,\n",
              "  '[Starts Tonight] Click Prediction Hackathon | Win upto INR 2 lacs'),\n",
              " (-0.8258748,\n",
              "  'Last chance to convince your boss before the Early Bird expires !'),\n",
              " (-0.8573242,\n",
              "  '[New Hackathon] CodeFest by IIT BHU | Win Prizes worth INR 50,000'),\n",
              " (-0.89357734,\n",
              "  \"Participate at DataHack Summit 2017 - India's largest A.I. & M.L. Conference\"),\n",
              " (-0.92307377, 'Watch Live: Fireside Chat with DJ Patil'),\n",
              " (-0.9885325,\n",
              "  'Visualizing Machine Learning with Anand S, CEO of Gramener, at #DHS2017'),\n",
              " (-1.2417206, '[Last Day] Early Bird Offer on conference passes ENDS today'),\n",
              " (-1.2473747,\n",
              "  '[Delhi NCR] Fireside Chat with DJ Patil, Former US Chief Data Scientist'),\n",
              " (-1.3153532, '[November Updates] - Announcing DataFest 2018, Mumbai'),\n",
              " (-1.524699, 'Early Bird offer expires in 2 Days. Save your spot now!'),\n",
              " (-1.6215965,\n",
              "  'A.I. & Machine Learning: 5 reasons why you should attend DataHack Summit 2017'),\n",
              " (-1.6389558,\n",
              "  '[July] Data Science Expert Meetups & Competitions coming your way'),\n",
              " (-1.7564697,\n",
              "  'Dr Kirk Borne of Booz Allen Hamilton, to keynote at DataHack Summit 2017'),\n",
              " (-2.1156282,\n",
              "  '[September] Data Science Hackathons, Meetups and Webinars coming your way'),\n",
              " (-2.142389,\n",
              "  '[October] Data Science Hackathons, Meetups and Webinars coming your way'),\n",
              " (-2.1930432, 'Sneak Peek: A look at the emerging data science world !'),\n",
              " (-2.1980112, '[October 2017] - Just a month to go! DataHack Summit 2017'),\n",
              " (-2.3440156,\n",
              "  '[September] Exciting days ahead with DataHack Summit 2017, Hackathons, Meetups and more!'),\n",
              " (-2.346448,\n",
              "  '[AV Newsletter] Fireside Chat with DJ Patil, DataHack Summit, and much more'),\n",
              " (-2.3513267,\n",
              "  \"Register @ DataHack Summit 2017 - India's Largest Conference On Artificial Intelligence & Machine Learning\"),\n",
              " (-2.364487,\n",
              "  '[Newsletter] Stage for DataHack Summit 2017 is set! Announcing new hackathons, articles and job opportunities !'),\n",
              " (-2.4668038,\n",
              "  \"[Register Now] Just 2 days to go for India's biggest action in Artificial Intelligence & Machine Learning.\")]"
            ]
          },
          "metadata": {
            "tags": []
          },
          "execution_count": 73
        }
      ]
    },
    {
      "metadata": {
        "id": "4ocr0V0syz-j",
        "colab_type": "text"
      },
      "cell_type": "markdown",
      "source": [
        "### Embedding interpretation"
      ]
    },
    {
      "metadata": {
        "id": "5DZWZMJyyz-m",
        "colab_type": "text"
      },
      "cell_type": "markdown",
      "source": [
        "We can now do the same thing for the embeddings."
      ]
    },
    {
      "metadata": {
        "id": "vgfwjSaiyz-q",
        "colab_type": "code",
        "colab": {}
      },
      "cell_type": "code",
      "source": [
        "movie_emb = to_np(m.i(V(topMovieIdx)))\n",
        "movie_ratings_emb = [(b[:], movie_names[i]) for i,b in zip(topMovies,movie_emb)]\n",
        "\n",
        "movie_emb_pd = pd.DataFrame(movie_ratings_emb)\n",
        "movie_emb_pd.to_csv(\"movie_emb_pd.csv\")\n",
        "\n",
        "from google.colab import files\n",
        "files.download(\"movie_emb_pd.csv\")"
      ],
      "execution_count": 0,
      "outputs": []
    },
    {
      "metadata": {
        "id": "ddgp3OIyyz-6",
        "colab_type": "text"
      },
      "cell_type": "markdown",
      "source": [
        "Because it's hard to interpret 50 embeddings, we use [PCA](https://plot.ly/ipython-notebooks/principal-component-analysis/) to simplify them down to just 3 vectors. "
      ]
    },
    {
      "metadata": {
        "id": "o_F6sQVYyz-9",
        "colab_type": "code",
        "colab": {
          "base_uri": "https://localhost:8080/",
          "height": 51
        },
        "outputId": "d0b2bd37-5e7d-480e-db7c-a60aa8cf50bd"
      },
      "cell_type": "code",
      "source": [
        "from sklearn.decomposition import PCA\n",
        "pca = PCA(n_components=3)\n",
        "movie_pca = pca.fit(movie_emb.T).components_"
      ],
      "execution_count": 75,
      "outputs": [
        {
          "output_type": "stream",
          "text": [
            "/usr/local/lib/python3.6/dist-packages/sklearn/decomposition/pca.py:425: RuntimeWarning: invalid value encountered in true_divide\n",
            "  explained_variance_ratio_ = explained_variance_ / total_var\n"
          ],
          "name": "stderr"
        }
      ]
    },
    {
      "metadata": {
        "id": "ZbTKYJk9yz_K",
        "colab_type": "code",
        "colab": {
          "base_uri": "https://localhost:8080/",
          "height": 34
        },
        "outputId": "477b0b9b-989f-477e-ca49-0b28d8f94392"
      },
      "cell_type": "code",
      "source": [
        "movie_pca.shape"
      ],
      "execution_count": 76,
      "outputs": [
        {
          "output_type": "execute_result",
          "data": {
            "text/plain": [
              "(3, 26)"
            ]
          },
          "metadata": {
            "tags": []
          },
          "execution_count": 76
        }
      ]
    },
    {
      "metadata": {
        "id": "ZeDBVzEeyz_Z",
        "colab_type": "code",
        "colab": {}
      },
      "cell_type": "code",
      "source": [
        "fac0 = movie_pca[0]\n",
        "movie_comp = [(f, movie_names[i]) for f,i in zip(fac0, topMovies)]"
      ],
      "execution_count": 0,
      "outputs": []
    },
    {
      "metadata": {
        "id": "DYOE6aotyz_k",
        "colab_type": "text"
      },
      "cell_type": "markdown",
      "source": [
        "Here's the 1st component. It seems to be 'easy watching' vs 'serious'."
      ]
    },
    {
      "metadata": {
        "id": "4qg1CArnyz_q",
        "colab_type": "code",
        "colab": {
          "base_uri": "https://localhost:8080/",
          "height": 799
        },
        "outputId": "4007b931-f5b9-4cf4-e609-a227f925269c"
      },
      "cell_type": "code",
      "source": [
        "sorted(movie_comp, key=itemgetter(0), reverse=True)[:]"
      ],
      "execution_count": 78,
      "outputs": [
        {
          "output_type": "execute_result",
          "data": {
            "text/plain": [
              "[(0.15290938,\n",
              "  'A.I. & Machine Learning: 5 reasons why you should attend DataHack Summit 2017'),\n",
              " (0.14092855,\n",
              "  '[Data Science Hackathons] Cross -Sell & Churn Prediction | Win Prizes ~ INR 1,50,000'),\n",
              " (0.046106957,\n",
              "  'Dr Kirk Borne of Booz Allen Hamilton, to keynote at DataHack Summit 2017'),\n",
              " (0.039732017,\n",
              "  '[Starts Tonight] Click Prediction Hackathon | Win upto INR 2 lacs'),\n",
              " (0.018389037, '[October 2017] - Just a month to go! DataHack Summit 2017'),\n",
              " (0.008207125, 'Sneak Peek: A look at the emerging data science world !'),\n",
              " (0.0037799152,\n",
              "  '[New Webinar] Can non programmers join Big Data and Data Science roles?'),\n",
              " (0.002669024, 'Watch Live: Fireside Chat with DJ Patil'),\n",
              " (0.002316012,\n",
              "  '[October] Data Science Hackathons, Meetups and Webinars coming your way'),\n",
              " (0.0014912236,\n",
              "  'Last chance to convince your boss before the Early Bird expires !'),\n",
              " (0.00063764,\n",
              "  '[September] Exciting days ahead with DataHack Summit 2017, Hackathons, Meetups and more!'),\n",
              " (0.00024148329,\n",
              "  '[AV Newsletter] Fireside Chat with DJ Patil, DataHack Summit, and much more'),\n",
              " (5.6198915e-05,\n",
              "  'Visualizing Machine Learning with Anand S, CEO of Gramener, at #DHS2017'),\n",
              " (-2.0565466e-08, 'Innovate and grow your business through Data Hackathons'),\n",
              " (-7.007782e-05,\n",
              "  \"Participate at DataHack Summit 2017 - India's largest A.I. & M.L. Conference\"),\n",
              " (-0.0013244881,\n",
              "  '[September] Data Science Hackathons, Meetups and Webinars coming your way'),\n",
              " (-0.0018993318,\n",
              "  \"[Register Now] Just 2 days to go for India's biggest action in Artificial Intelligence & Machine Learning.\"),\n",
              " (-0.00514525, 'Early Bird offer expires in 2 Days. Save your spot now!'),\n",
              " (-0.0061849584,\n",
              "  '[Last Day] Early Bird Offer on conference passes ENDS today'),\n",
              " (-0.008448622,\n",
              "  'Click Prediction | Data Science Hackathon | Win upto INR 2 lacs'),\n",
              " (-0.009657177,\n",
              "  \"Register @ DataHack Summit 2017 - India's Largest Conference On Artificial Intelligence & Machine Learning\"),\n",
              " (-0.11034224,\n",
              "  '[July] Data Science Expert Meetups & Competitions coming your way'),\n",
              " (-0.123653136,\n",
              "  '[New Hackathon] CodeFest by IIT BHU | Win Prizes worth INR 50,000'),\n",
              " (-0.15687716,\n",
              "  '[Newsletter] Stage for DataHack Summit 2017 is set! Announcing new hackathons, articles and job opportunities !'),\n",
              " (-0.1667656,\n",
              "  '[Delhi NCR] Fireside Chat with DJ Patil, Former US Chief Data Scientist'),\n",
              " (-0.93407524, '[November Updates] - Announcing DataFest 2018, Mumbai')]"
            ]
          },
          "metadata": {
            "tags": []
          },
          "execution_count": 78
        }
      ]
    },
    {
      "metadata": {
        "id": "Fs9hP04fyz_2",
        "colab_type": "code",
        "colab": {
          "base_uri": "https://localhost:8080/",
          "height": 799
        },
        "outputId": "68c41c33-2c26-46f1-a8fc-032616d6db47"
      },
      "cell_type": "code",
      "source": [
        "sorted(movie_comp, key=itemgetter(0))[:]"
      ],
      "execution_count": 79,
      "outputs": [
        {
          "output_type": "execute_result",
          "data": {
            "text/plain": [
              "[(-0.93407524, '[November Updates] - Announcing DataFest 2018, Mumbai'),\n",
              " (-0.1667656,\n",
              "  '[Delhi NCR] Fireside Chat with DJ Patil, Former US Chief Data Scientist'),\n",
              " (-0.15687716,\n",
              "  '[Newsletter] Stage for DataHack Summit 2017 is set! Announcing new hackathons, articles and job opportunities !'),\n",
              " (-0.123653136,\n",
              "  '[New Hackathon] CodeFest by IIT BHU | Win Prizes worth INR 50,000'),\n",
              " (-0.11034224,\n",
              "  '[July] Data Science Expert Meetups & Competitions coming your way'),\n",
              " (-0.009657177,\n",
              "  \"Register @ DataHack Summit 2017 - India's Largest Conference On Artificial Intelligence & Machine Learning\"),\n",
              " (-0.008448622,\n",
              "  'Click Prediction | Data Science Hackathon | Win upto INR 2 lacs'),\n",
              " (-0.0061849584,\n",
              "  '[Last Day] Early Bird Offer on conference passes ENDS today'),\n",
              " (-0.00514525, 'Early Bird offer expires in 2 Days. Save your spot now!'),\n",
              " (-0.0018993318,\n",
              "  \"[Register Now] Just 2 days to go for India's biggest action in Artificial Intelligence & Machine Learning.\"),\n",
              " (-0.0013244881,\n",
              "  '[September] Data Science Hackathons, Meetups and Webinars coming your way'),\n",
              " (-7.007782e-05,\n",
              "  \"Participate at DataHack Summit 2017 - India's largest A.I. & M.L. Conference\"),\n",
              " (-2.0565466e-08, 'Innovate and grow your business through Data Hackathons'),\n",
              " (5.6198915e-05,\n",
              "  'Visualizing Machine Learning with Anand S, CEO of Gramener, at #DHS2017'),\n",
              " (0.00024148329,\n",
              "  '[AV Newsletter] Fireside Chat with DJ Patil, DataHack Summit, and much more'),\n",
              " (0.00063764,\n",
              "  '[September] Exciting days ahead with DataHack Summit 2017, Hackathons, Meetups and more!'),\n",
              " (0.0014912236,\n",
              "  'Last chance to convince your boss before the Early Bird expires !'),\n",
              " (0.002316012,\n",
              "  '[October] Data Science Hackathons, Meetups and Webinars coming your way'),\n",
              " (0.002669024, 'Watch Live: Fireside Chat with DJ Patil'),\n",
              " (0.0037799152,\n",
              "  '[New Webinar] Can non programmers join Big Data and Data Science roles?'),\n",
              " (0.008207125, 'Sneak Peek: A look at the emerging data science world !'),\n",
              " (0.018389037, '[October 2017] - Just a month to go! DataHack Summit 2017'),\n",
              " (0.039732017,\n",
              "  '[Starts Tonight] Click Prediction Hackathon | Win upto INR 2 lacs'),\n",
              " (0.046106957,\n",
              "  'Dr Kirk Borne of Booz Allen Hamilton, to keynote at DataHack Summit 2017'),\n",
              " (0.14092855,\n",
              "  '[Data Science Hackathons] Cross -Sell & Churn Prediction | Win Prizes ~ INR 1,50,000'),\n",
              " (0.15290938,\n",
              "  'A.I. & Machine Learning: 5 reasons why you should attend DataHack Summit 2017')]"
            ]
          },
          "metadata": {
            "tags": []
          },
          "execution_count": 79
        }
      ]
    },
    {
      "metadata": {
        "id": "FOVUKYkoy0AA",
        "colab_type": "code",
        "colab": {}
      },
      "cell_type": "code",
      "source": [
        "fac1 = movie_pca[1]\n",
        "movie_comp = [(f, movie_names[i]) for f,i in zip(fac1, topMovies)]"
      ],
      "execution_count": 0,
      "outputs": []
    },
    {
      "metadata": {
        "id": "Z67QFbGLy0AI",
        "colab_type": "text"
      },
      "cell_type": "markdown",
      "source": [
        "Here's the 2nd component. It seems to be 'CGI' vs 'dialog driven'."
      ]
    },
    {
      "metadata": {
        "id": "JCauBjPIy0AL",
        "colab_type": "code",
        "colab": {
          "base_uri": "https://localhost:8080/",
          "height": 782
        },
        "outputId": "3aaeb740-e745-4933-f3f9-80f71ca42951"
      },
      "cell_type": "code",
      "source": [
        "sorted(movie_comp, key=itemgetter(0), reverse=True)[:]"
      ],
      "execution_count": 81,
      "outputs": [
        {
          "output_type": "execute_result",
          "data": {
            "text/plain": [
              "[(0.7931162,\n",
              "  '[Newsletter] Stage for DataHack Summit 2017 is set! Announcing new hackathons, articles and job opportunities !'),\n",
              " (0.34131658,\n",
              "  '[New Hackathon] CodeFest by IIT BHU | Win Prizes worth INR 50,000'),\n",
              " (0.21643557,\n",
              "  'A.I. & Machine Learning: 5 reasons why you should attend DataHack Summit 2017'),\n",
              " (0.08468822,\n",
              "  '[Delhi NCR] Fireside Chat with DJ Patil, Former US Chief Data Scientist'),\n",
              " (0.017445266,\n",
              "  '[Data Science Hackathons] Cross -Sell & Churn Prediction | Win Prizes ~ INR 1,50,000'),\n",
              " (0.016612643,\n",
              "  '[September] Exciting days ahead with DataHack Summit 2017, Hackathons, Meetups and more!'),\n",
              " (0.012804933, '[Last Day] Early Bird Offer on conference passes ENDS today'),\n",
              " (0.0062236963, 'Sneak Peek: A look at the emerging data science world !'),\n",
              " (0.0025607646,\n",
              "  \"[Register Now] Just 2 days to go for India's biggest action in Artificial Intelligence & Machine Learning.\"),\n",
              " (0.0016395894,\n",
              "  'Last chance to convince your boss before the Early Bird expires !'),\n",
              " (0.0014887278, 'Watch Live: Fireside Chat with DJ Patil'),\n",
              " (0.0011149035, 'Early Bird offer expires in 2 Days. Save your spot now!'),\n",
              " (0.00082882325,\n",
              "  '[AV Newsletter] Fireside Chat with DJ Patil, DataHack Summit, and much more'),\n",
              " (0.00066425046,\n",
              "  '[October] Data Science Hackathons, Meetups and Webinars coming your way'),\n",
              " (0.0003079393,\n",
              "  'Visualizing Machine Learning with Anand S, CEO of Gramener, at #DHS2017'),\n",
              " (-4.1293315e-06,\n",
              "  \"Participate at DataHack Summit 2017 - India's largest A.I. & M.L. Conference\"),\n",
              " (-5.8925493e-06, 'Innovate and grow your business through Data Hackathons'),\n",
              " (-0.0014282326,\n",
              "  '[September] Data Science Hackathons, Meetups and Webinars coming your way'),\n",
              " (-0.0060558524,\n",
              "  'Click Prediction | Data Science Hackathon | Win upto INR 2 lacs'),\n",
              " (-0.008378293,\n",
              "  '[New Webinar] Can non programmers join Big Data and Data Science roles?'),\n",
              " (-0.013221211,\n",
              "  \"Register @ DataHack Summit 2017 - India's Largest Conference On Artificial Intelligence & Machine Learning\"),\n",
              " (-0.034342006,\n",
              "  '[July] Data Science Expert Meetups & Competitions coming your way'),\n",
              " (-0.086983584, '[October 2017] - Just a month to go! DataHack Summit 2017'),\n",
              " (-0.16711469,\n",
              "  '[Starts Tonight] Click Prediction Hackathon | Win upto INR 2 lacs'),\n",
              " (-0.17793788, '[November Updates] - Announcing DataFest 2018, Mumbai'),\n",
              " (-0.3619914,\n",
              "  'Dr Kirk Borne of Booz Allen Hamilton, to keynote at DataHack Summit 2017')]"
            ]
          },
          "metadata": {
            "tags": []
          },
          "execution_count": 81
        }
      ]
    },
    {
      "metadata": {
        "id": "FGmPSXely0Bo",
        "colab_type": "code",
        "colab": {
          "base_uri": "https://localhost:8080/",
          "height": 782
        },
        "outputId": "72090c4f-5b43-41d7-8ae5-b7b0113b23d6"
      },
      "cell_type": "code",
      "source": [
        "sorted(movie_comp, key=itemgetter(0))[:]"
      ],
      "execution_count": 82,
      "outputs": [
        {
          "output_type": "execute_result",
          "data": {
            "text/plain": [
              "[(-0.3619914,\n",
              "  'Dr Kirk Borne of Booz Allen Hamilton, to keynote at DataHack Summit 2017'),\n",
              " (-0.17793788, '[November Updates] - Announcing DataFest 2018, Mumbai'),\n",
              " (-0.16711469,\n",
              "  '[Starts Tonight] Click Prediction Hackathon | Win upto INR 2 lacs'),\n",
              " (-0.086983584, '[October 2017] - Just a month to go! DataHack Summit 2017'),\n",
              " (-0.034342006,\n",
              "  '[July] Data Science Expert Meetups & Competitions coming your way'),\n",
              " (-0.013221211,\n",
              "  \"Register @ DataHack Summit 2017 - India's Largest Conference On Artificial Intelligence & Machine Learning\"),\n",
              " (-0.008378293,\n",
              "  '[New Webinar] Can non programmers join Big Data and Data Science roles?'),\n",
              " (-0.0060558524,\n",
              "  'Click Prediction | Data Science Hackathon | Win upto INR 2 lacs'),\n",
              " (-0.0014282326,\n",
              "  '[September] Data Science Hackathons, Meetups and Webinars coming your way'),\n",
              " (-5.8925493e-06, 'Innovate and grow your business through Data Hackathons'),\n",
              " (-4.1293315e-06,\n",
              "  \"Participate at DataHack Summit 2017 - India's largest A.I. & M.L. Conference\"),\n",
              " (0.0003079393,\n",
              "  'Visualizing Machine Learning with Anand S, CEO of Gramener, at #DHS2017'),\n",
              " (0.00066425046,\n",
              "  '[October] Data Science Hackathons, Meetups and Webinars coming your way'),\n",
              " (0.00082882325,\n",
              "  '[AV Newsletter] Fireside Chat with DJ Patil, DataHack Summit, and much more'),\n",
              " (0.0011149035, 'Early Bird offer expires in 2 Days. Save your spot now!'),\n",
              " (0.0014887278, 'Watch Live: Fireside Chat with DJ Patil'),\n",
              " (0.0016395894,\n",
              "  'Last chance to convince your boss before the Early Bird expires !'),\n",
              " (0.0025607646,\n",
              "  \"[Register Now] Just 2 days to go for India's biggest action in Artificial Intelligence & Machine Learning.\"),\n",
              " (0.0062236963, 'Sneak Peek: A look at the emerging data science world !'),\n",
              " (0.012804933, '[Last Day] Early Bird Offer on conference passes ENDS today'),\n",
              " (0.016612643,\n",
              "  '[September] Exciting days ahead with DataHack Summit 2017, Hackathons, Meetups and more!'),\n",
              " (0.017445266,\n",
              "  '[Data Science Hackathons] Cross -Sell & Churn Prediction | Win Prizes ~ INR 1,50,000'),\n",
              " (0.08468822,\n",
              "  '[Delhi NCR] Fireside Chat with DJ Patil, Former US Chief Data Scientist'),\n",
              " (0.21643557,\n",
              "  'A.I. & Machine Learning: 5 reasons why you should attend DataHack Summit 2017'),\n",
              " (0.34131658,\n",
              "  '[New Hackathon] CodeFest by IIT BHU | Win Prizes worth INR 50,000'),\n",
              " (0.7931162,\n",
              "  '[Newsletter] Stage for DataHack Summit 2017 is set! Announcing new hackathons, articles and job opportunities !')]"
            ]
          },
          "metadata": {
            "tags": []
          },
          "execution_count": 82
        }
      ]
    },
    {
      "metadata": {
        "id": "9-Jp7w2By0CZ",
        "colab_type": "text"
      },
      "cell_type": "markdown",
      "source": [
        "We can draw a picture to see how various movies appear on the map of these components. This picture shows the first two components."
      ]
    },
    {
      "metadata": {
        "id": "muuMueNmy0Ci",
        "colab_type": "code",
        "colab": {
          "base_uri": "https://localhost:8080/",
          "height": 883
        },
        "outputId": "5117b725-b9e8-4ba4-95b9-059995aceb86"
      },
      "cell_type": "code",
      "source": [
        "idxs = np.random.choice(len(topMovies), 50, replace=True)\n",
        "X = fac0[idxs]\n",
        "Y = fac1[idxs]\n",
        "plt.figure(figsize=(15,15))\n",
        "plt.scatter(X, Y)\n",
        "for i, x, y in zip(topMovies[idxs], X, Y):\n",
        "    plt.text(x,y,movie_names[i], color=np.random.rand(3)*0.7, fontsize=11)\n",
        "plt.show()"
      ],
      "execution_count": 84,
      "outputs": [
        {
          "output_type": "display_data",
          "data": {
            "image/png": "[encoded data removed]",
            "text/plain": [
              "<matplotlib.figure.Figure at 0x7f74eb3bd630>"
            ]
          },
          "metadata": {
            "tags": []
          }
        }
      ]
    },
    {
      "metadata": {
        "id": "hBUkY7F8y0C6",
        "colab_type": "text"
      },
      "cell_type": "markdown",
      "source": [
        "## Collab filtering from scratch"
      ]
    },
    {
      "metadata": {
        "id": "uNy19AWGy0C_",
        "colab_type": "text"
      },
      "cell_type": "markdown",
      "source": [
        "### Dot product example"
      ]
    },
    {
      "metadata": {
        "id": "kqghvraby0DE",
        "colab_type": "code",
        "colab": {},
        "outputId": "9003162f-608a-428c-db7c-00447be0d542"
      },
      "cell_type": "code",
      "source": [
        "a = T([[1.,2],[3,4]])\n",
        "b = T([[2.,2],[10,10]])\n",
        "a,b"
      ],
      "execution_count": 0,
      "outputs": [
        {
          "output_type": "execute_result",
          "data": {
            "text/plain": [
              "(\n",
              "  1  2\n",
              "  3  4\n",
              " [torch.FloatTensor of size 2x2], \n",
              "   2   2\n",
              "  10  10\n",
              " [torch.FloatTensor of size 2x2])"
            ]
          },
          "metadata": {
            "tags": []
          },
          "execution_count": 98
        }
      ]
    },
    {
      "metadata": {
        "id": "sLnqlbTby0DZ",
        "colab_type": "code",
        "colab": {},
        "outputId": "d7ad173e-0648-4f90-976a-26f106e776ba"
      },
      "cell_type": "code",
      "source": [
        "a*b"
      ],
      "execution_count": 0,
      "outputs": [
        {
          "output_type": "execute_result",
          "data": {
            "text/plain": [
              "\n",
              "  2   4\n",
              " 30  40\n",
              "[torch.FloatTensor of size 2x2]"
            ]
          },
          "metadata": {
            "tags": []
          },
          "execution_count": 99
        }
      ]
    },
    {
      "metadata": {
        "id": "mF-jlcO3y0Du",
        "colab_type": "code",
        "colab": {},
        "outputId": "d01f675c-2781-4160-d5c2-dda53d83dcc4"
      },
      "cell_type": "code",
      "source": [
        "(a*b).sum(1)"
      ],
      "execution_count": 0,
      "outputs": [
        {
          "output_type": "execute_result",
          "data": {
            "text/plain": [
              "\n",
              "  6\n",
              " 70\n",
              "[torch.FloatTensor of size 2]"
            ]
          },
          "metadata": {
            "tags": []
          },
          "execution_count": 100
        }
      ]
    },
    {
      "metadata": {
        "id": "E-wyA7zDy0EF",
        "colab_type": "code",
        "colab": {}
      },
      "cell_type": "code",
      "source": [
        "class DotProduct(nn.Module):\n",
        "    def forward(self, u, m): return (u*m).sum(1)"
      ],
      "execution_count": 0,
      "outputs": []
    },
    {
      "metadata": {
        "id": "KBNHMGnAy0EY",
        "colab_type": "code",
        "colab": {}
      },
      "cell_type": "code",
      "source": [
        "model=DotProduct()"
      ],
      "execution_count": 0,
      "outputs": []
    },
    {
      "metadata": {
        "id": "6GNW2bCTy0En",
        "colab_type": "code",
        "colab": {},
        "outputId": "7fb5e5d1-2b41-431f-b2e1-4a2b177424b5"
      },
      "cell_type": "code",
      "source": [
        "model(a,b)"
      ],
      "execution_count": 0,
      "outputs": [
        {
          "output_type": "execute_result",
          "data": {
            "text/plain": [
              "\n",
              "  6\n",
              " 70\n",
              "[torch.FloatTensor of size 2]"
            ]
          },
          "metadata": {
            "tags": []
          },
          "execution_count": 103
        }
      ]
    },
    {
      "metadata": {
        "id": "fhtYjtNay0Ff",
        "colab_type": "text"
      },
      "cell_type": "markdown",
      "source": [
        "### Dot product model"
      ]
    },
    {
      "metadata": {
        "id": "LnpG022P8el_",
        "colab_type": "code",
        "colab": {
          "base_uri": "https://localhost:8080/",
          "height": 204
        },
        "outputId": "564c7eee-55f3-41d2-8a33-f5af910ff757"
      },
      "cell_type": "code",
      "source": [
        "ratings1 = pd.read_csv('train.csv')\n",
        "ratings1.head()"
      ],
      "execution_count": 6,
      "outputs": [
        {
          "output_type": "execute_result",
          "data": {
            "text/html": [
              "<div>\n",
              "<style scoped>\n",
              "    .dataframe tbody tr th:only-of-type {\n",
              "        vertical-align: middle;\n",
              "    }\n",
              "\n",
              "    .dataframe tbody tr th {\n",
              "        vertical-align: top;\n",
              "    }\n",
              "\n",
              "    .dataframe thead th {\n",
              "        text-align: right;\n",
              "    }\n",
              "</style>\n",
              "<table border=\"1\" class=\"dataframe\">\n",
              "  <thead>\n",
              "    <tr style=\"text-align: right;\">\n",
              "      <th></th>\n",
              "      <th>id</th>\n",
              "      <th>user_id</th>\n",
              "      <th>campaign_id</th>\n",
              "      <th>send_date</th>\n",
              "      <th>is_open</th>\n",
              "      <th>is_click</th>\n",
              "    </tr>\n",
              "  </thead>\n",
              "  <tbody>\n",
              "    <tr>\n",
              "      <th>0</th>\n",
              "      <td>42_14051</td>\n",
              "      <td>14051</td>\n",
              "      <td>42</td>\n",
              "      <td>01-09-2017 19:55</td>\n",
              "      <td>0</td>\n",
              "      <td>0</td>\n",
              "    </tr>\n",
              "    <tr>\n",
              "      <th>1</th>\n",
              "      <td>52_134438</td>\n",
              "      <td>134438</td>\n",
              "      <td>52</td>\n",
              "      <td>02-11-2017 12:53</td>\n",
              "      <td>0</td>\n",
              "      <td>0</td>\n",
              "    </tr>\n",
              "    <tr>\n",
              "      <th>2</th>\n",
              "      <td>33_181789</td>\n",
              "      <td>181789</td>\n",
              "      <td>33</td>\n",
              "      <td>24-07-2017 15:15</td>\n",
              "      <td>0</td>\n",
              "      <td>0</td>\n",
              "    </tr>\n",
              "    <tr>\n",
              "      <th>3</th>\n",
              "      <td>44_231448</td>\n",
              "      <td>231448</td>\n",
              "      <td>44</td>\n",
              "      <td>05-09-2017 11:36</td>\n",
              "      <td>0</td>\n",
              "      <td>0</td>\n",
              "    </tr>\n",
              "    <tr>\n",
              "      <th>4</th>\n",
              "      <td>29_185580</td>\n",
              "      <td>185580</td>\n",
              "      <td>29</td>\n",
              "      <td>01-07-2017 18:01</td>\n",
              "      <td>0</td>\n",
              "      <td>0</td>\n",
              "    </tr>\n",
              "  </tbody>\n",
              "</table>\n",
              "</div>"
            ],
            "text/plain": [
              "          id  user_id  campaign_id         send_date  is_open  is_click\n",
              "0   42_14051    14051           42  01-09-2017 19:55        0         0\n",
              "1  52_134438   134438           52  02-11-2017 12:53        0         0\n",
              "2  33_181789   181789           33  24-07-2017 15:15        0         0\n",
              "3  44_231448   231448           44  05-09-2017 11:36        0         0\n",
              "4  29_185580   185580           29  01-07-2017 18:01        0         0"
            ]
          },
          "metadata": {
            "tags": []
          },
          "execution_count": 6
        }
      ]
    },
    {
      "metadata": {
        "id": "UvC5gRTM89qq",
        "colab_type": "code",
        "colab": {}
      },
      "cell_type": "code",
      "source": [
        "val_idxs = get_cv_idxs(len(ratings1))\n",
        "wd=2e-4\n",
        "n_factors = 50"
      ],
      "execution_count": 0,
      "outputs": []
    },
    {
      "metadata": {
        "id": "MI1ZeKfTy0Fm",
        "colab_type": "code",
        "colab": {
          "base_uri": "https://localhost:8080/",
          "height": 71
        },
        "outputId": "5a07242f-6cf7-4133-834f-b96374bf2c0a"
      },
      "cell_type": "code",
      "source": [
        "u_uniq = ratings1.user_id.unique()\n",
        "user2idx = {o:i for i,o in enumerate(u_uniq)}\n",
        "ratings1.user_Id = ratings1.user_id.apply(lambda x: user2idx[x])\n",
        "\n",
        "m_uniq = ratings1.campaign_id.unique()\n",
        "movie2idx = {o:i for i,o in enumerate(m_uniq)}\n",
        "ratings1.campaign_id = ratings1.campaign_id.apply(lambda x: movie2idx[x])\n",
        "\n",
        "n_users=int(ratings1.user_id.nunique())\n",
        "n_movies=int(ratings1.campaign_id.nunique())"
      ],
      "execution_count": 8,
      "outputs": [
        {
          "output_type": "stream",
          "text": [
            "/usr/local/lib/python3.6/dist-packages/ipykernel_launcher.py:3: UserWarning: Pandas doesn't allow columns to be created via a new attribute name - see https://pandas.pydata.org/pandas-docs/stable/indexing.html#attribute-access\n",
            "  This is separate from the ipykernel package so we can avoid doing imports until\n"
          ],
          "name": "stderr"
        }
      ]
    },
    {
      "metadata": {
        "id": "q0yRwVoKy0F1",
        "colab_type": "code",
        "colab": {}
      },
      "cell_type": "code",
      "source": [
        "class EmbeddingDot(nn.Module):\n",
        "    def __init__(self, n_users, n_movies):\n",
        "        super().__init__()\n",
        "        self.u = nn.Embedding(n_users, n_factors)\n",
        "        self.m = nn.Embedding(n_movies, n_factors)\n",
        "        self.u.weight.data.uniform_(0,0.05)\n",
        "        self.m.weight.data.uniform_(0,0.05)\n",
        "        \n",
        "    def forward(self, cats, conts):\n",
        "        users,movies = cats[:,0],cats[:,1]\n",
        "        u,m = self.u(users),self.m(movies)\n",
        "        return (u*m).sum(1)"
      ],
      "execution_count": 0,
      "outputs": []
    },
    {
      "metadata": {
        "id": "w0GaRvFzy0GO",
        "colab_type": "code",
        "colab": {}
      },
      "cell_type": "code",
      "source": [
        "x = ratings1.drop(['is_open', 'send_date'],axis=1)\n",
        "y = ratings1['is_open'].astype(np.float32)"
      ],
      "execution_count": 0,
      "outputs": []
    },
    {
      "metadata": {
        "id": "TXdHSlfDy0IW",
        "colab_type": "code",
        "colab": {}
      },
      "cell_type": "code",
      "source": [
        "data = ColumnarModelData.from_data_frame(path, val_idxs, x, y, ['user_id', 'campaign_id'], 64)"
      ],
      "execution_count": 0,
      "outputs": []
    },
    {
      "metadata": {
        "id": "k00LJ8A0y0Ic",
        "colab_type": "code",
        "colab": {}
      },
      "cell_type": "code",
      "source": [
        "wd=1e-5\n",
        "model = EmbeddingDot(n_users, n_movies).cuda()\n",
        "opt = optim.SGD(model.parameters(), 1e-1, weight_decay=wd, momentum=0.9)"
      ],
      "execution_count": 0,
      "outputs": []
    },
    {
      "metadata": {
        "id": "rZ6lFKoAy0Ir",
        "colab_type": "code",
        "colab": {
          "base_uri": "https://localhost:8080/",
          "height": 435
        },
        "outputId": "372dc06a-1268-44a2-dff5-c637d9a5a43f"
      },
      "cell_type": "code",
      "source": [
        "fit(model, data, 3, opt, F.mse_loss)"
      ],
      "execution_count": 13,
      "outputs": [
        {
          "output_type": "stream",
          "text": [
            "Widget Javascript not detected.  It may not be installed or enabled properly.\n"
          ],
          "name": "stderr"
        },
        {
          "output_type": "display_data",
          "data": {
            "application/vnd.jupyter.widget-view+json": {
              "model_id": "44491ff86c53446caafe302bde72e147"
            }
          },
          "metadata": {
            "tags": []
          }
        },
        {
          "output_type": "stream",
          "text": [
            "\r  0%|          | 0/12790 [00:00<?, ?it/s]\n"
          ],
          "name": "stdout"
        },
        {
          "output_type": "error",
          "ename": "RuntimeError",
          "evalue": "ignored",
          "traceback": [
            "\u001b[0;31m---------------------------------------------------------------------------\u001b[0m",
            "\u001b[0;31mRuntimeError\u001b[0m                              Traceback (most recent call last)",
            "\u001b[0;32m<ipython-input-13-09a5bc469dee>\u001b[0m in \u001b[0;36m<module>\u001b[0;34m()\u001b[0m\n\u001b[0;32m----> 1\u001b[0;31m \u001b[0mfit\u001b[0m\u001b[0;34m(\u001b[0m\u001b[0mmodel\u001b[0m\u001b[0;34m,\u001b[0m \u001b[0mdata\u001b[0m\u001b[0;34m,\u001b[0m \u001b[0;36m3\u001b[0m\u001b[0;34m,\u001b[0m \u001b[0mopt\u001b[0m\u001b[0;34m,\u001b[0m \u001b[0mF\u001b[0m\u001b[0;34m.\u001b[0m\u001b[0mmse_loss\u001b[0m\u001b[0;34m)\u001b[0m\u001b[0;34m\u001b[0m\u001b[0m\n\u001b[0m",
            "\u001b[0;32m/usr/local/lib/python3.6/dist-packages/fastai/model.py\u001b[0m in \u001b[0;36mfit\u001b[0;34m(model, data, epochs, opt, crit, metrics, callbacks, stepper, **kwargs)\u001b[0m\n\u001b[1;32m     94\u001b[0m             \u001b[0mbatch_num\u001b[0m \u001b[0;34m+=\u001b[0m \u001b[0;36m1\u001b[0m\u001b[0;34m\u001b[0m\u001b[0m\n\u001b[1;32m     95\u001b[0m             \u001b[0;32mfor\u001b[0m \u001b[0mcb\u001b[0m \u001b[0;32min\u001b[0m \u001b[0mcallbacks\u001b[0m\u001b[0;34m:\u001b[0m \u001b[0mcb\u001b[0m\u001b[0;34m.\u001b[0m\u001b[0mon_batch_begin\u001b[0m\u001b[0;34m(\u001b[0m\u001b[0;34m)\u001b[0m\u001b[0;34m\u001b[0m\u001b[0m\n\u001b[0;32m---> 96\u001b[0;31m             \u001b[0mloss\u001b[0m \u001b[0;34m=\u001b[0m \u001b[0mstepper\u001b[0m\u001b[0;34m.\u001b[0m\u001b[0mstep\u001b[0m\u001b[0;34m(\u001b[0m\u001b[0mV\u001b[0m\u001b[0;34m(\u001b[0m\u001b[0mx\u001b[0m\u001b[0;34m)\u001b[0m\u001b[0;34m,\u001b[0m\u001b[0mV\u001b[0m\u001b[0;34m(\u001b[0m\u001b[0my\u001b[0m\u001b[0;34m)\u001b[0m\u001b[0;34m,\u001b[0m \u001b[0mepoch\u001b[0m\u001b[0;34m)\u001b[0m\u001b[0;34m\u001b[0m\u001b[0m\n\u001b[0m\u001b[1;32m     97\u001b[0m             \u001b[0mavg_loss\u001b[0m \u001b[0;34m=\u001b[0m \u001b[0mavg_loss\u001b[0m \u001b[0;34m*\u001b[0m \u001b[0mavg_mom\u001b[0m \u001b[0;34m+\u001b[0m \u001b[0mloss\u001b[0m \u001b[0;34m*\u001b[0m \u001b[0;34m(\u001b[0m\u001b[0;36m1\u001b[0m\u001b[0;34m-\u001b[0m\u001b[0mavg_mom\u001b[0m\u001b[0;34m)\u001b[0m\u001b[0;34m\u001b[0m\u001b[0m\n\u001b[1;32m     98\u001b[0m             \u001b[0mdebias_loss\u001b[0m \u001b[0;34m=\u001b[0m \u001b[0mavg_loss\u001b[0m \u001b[0;34m/\u001b[0m \u001b[0;34m(\u001b[0m\u001b[0;36m1\u001b[0m \u001b[0;34m-\u001b[0m \u001b[0mavg_mom\u001b[0m\u001b[0;34m**\u001b[0m\u001b[0mbatch_num\u001b[0m\u001b[0;34m)\u001b[0m\u001b[0;34m\u001b[0m\u001b[0m\n",
            "\u001b[0;32m/usr/local/lib/python3.6/dist-packages/fastai/model.py\u001b[0m in \u001b[0;36mstep\u001b[0;34m(self, xs, y, epoch)\u001b[0m\n\u001b[1;32m     41\u001b[0m         \u001b[0;32mif\u001b[0m \u001b[0misinstance\u001b[0m\u001b[0;34m(\u001b[0m\u001b[0moutput\u001b[0m\u001b[0;34m,\u001b[0m\u001b[0mtuple\u001b[0m\u001b[0;34m)\u001b[0m\u001b[0;34m:\u001b[0m \u001b[0moutput\u001b[0m\u001b[0;34m,\u001b[0m\u001b[0;34m*\u001b[0m\u001b[0mxtra\u001b[0m \u001b[0;34m=\u001b[0m \u001b[0moutput\u001b[0m\u001b[0;34m\u001b[0m\u001b[0m\n\u001b[1;32m     42\u001b[0m         \u001b[0mself\u001b[0m\u001b[0;34m.\u001b[0m\u001b[0mopt\u001b[0m\u001b[0;34m.\u001b[0m\u001b[0mzero_grad\u001b[0m\u001b[0;34m(\u001b[0m\u001b[0;34m)\u001b[0m\u001b[0;34m\u001b[0m\u001b[0m\n\u001b[0;32m---> 43\u001b[0;31m         \u001b[0mloss\u001b[0m \u001b[0;34m=\u001b[0m \u001b[0mraw_loss\u001b[0m \u001b[0;34m=\u001b[0m \u001b[0mself\u001b[0m\u001b[0;34m.\u001b[0m\u001b[0mcrit\u001b[0m\u001b[0;34m(\u001b[0m\u001b[0moutput\u001b[0m\u001b[0;34m,\u001b[0m \u001b[0my\u001b[0m\u001b[0;34m)\u001b[0m\u001b[0;34m\u001b[0m\u001b[0m\n\u001b[0m\u001b[1;32m     44\u001b[0m         \u001b[0;32mif\u001b[0m \u001b[0mself\u001b[0m\u001b[0;34m.\u001b[0m\u001b[0mreg_fn\u001b[0m\u001b[0;34m:\u001b[0m \u001b[0mloss\u001b[0m \u001b[0;34m=\u001b[0m \u001b[0mself\u001b[0m\u001b[0;34m.\u001b[0m\u001b[0mreg_fn\u001b[0m\u001b[0;34m(\u001b[0m\u001b[0moutput\u001b[0m\u001b[0;34m,\u001b[0m \u001b[0mxtra\u001b[0m\u001b[0;34m,\u001b[0m \u001b[0mraw_loss\u001b[0m\u001b[0;34m)\u001b[0m\u001b[0;34m\u001b[0m\u001b[0m\n\u001b[1;32m     45\u001b[0m         \u001b[0mloss\u001b[0m\u001b[0;34m.\u001b[0m\u001b[0mbackward\u001b[0m\u001b[0;34m(\u001b[0m\u001b[0;34m)\u001b[0m\u001b[0;34m\u001b[0m\u001b[0m\n",
            "\u001b[0;31mRuntimeError\u001b[0m: cudaEventSynchronize in future::wait: device-side assert triggered"
          ]
        }
      ]
    },
    {
      "metadata": {
        "id": "4-xlg6z5y0JQ",
        "colab_type": "code",
        "colab": {}
      },
      "cell_type": "code",
      "source": [
        "set_lrs(opt, 0.01)"
      ],
      "execution_count": 0,
      "outputs": []
    },
    {
      "metadata": {
        "id": "HZHGXJVyy0JY",
        "colab_type": "code",
        "colab": {
          "base_uri": "https://localhost:8080/",
          "height": 1251
        },
        "outputId": "17631502-6fe4-4af7-a0dd-e5fdbe256a05"
      },
      "cell_type": "code",
      "source": [
        "fit(model, data, 3, opt, F.mse_loss)"
      ],
      "execution_count": 27,
      "outputs": [
        {
          "output_type": "stream",
          "text": [
            "Widget Javascript not detected.  It may not be installed or enabled properly.\n"
          ],
          "name": "stderr"
        },
        {
          "output_type": "display_data",
          "data": {
            "application/vnd.jupyter.widget-view+json": {
              "model_id": "8a6ce16514e9412da47243b0f6901fc0"
            }
          },
          "metadata": {
            "tags": []
          }
        },
        {
          "output_type": "stream",
          "text": [
            "  0%|          | 0/12790 [00:00<?, ?it/s]"
          ],
          "name": "stdout"
        },
        {
          "output_type": "error",
          "ename": "RuntimeError",
          "evalue": "ignored",
          "traceback": [
            "\u001b[0;31m---------------------------------------------------------------------------\u001b[0m",
            "\u001b[0;31mRuntimeError\u001b[0m                              Traceback (most recent call last)",
            "\u001b[0;32m<ipython-input-27-09a5bc469dee>\u001b[0m in \u001b[0;36m<module>\u001b[0;34m()\u001b[0m\n\u001b[0;32m----> 1\u001b[0;31m \u001b[0mfit\u001b[0m\u001b[0;34m(\u001b[0m\u001b[0mmodel\u001b[0m\u001b[0;34m,\u001b[0m \u001b[0mdata\u001b[0m\u001b[0;34m,\u001b[0m \u001b[0;36m3\u001b[0m\u001b[0;34m,\u001b[0m \u001b[0mopt\u001b[0m\u001b[0;34m,\u001b[0m \u001b[0mF\u001b[0m\u001b[0;34m.\u001b[0m\u001b[0mmse_loss\u001b[0m\u001b[0;34m)\u001b[0m\u001b[0;34m\u001b[0m\u001b[0m\n\u001b[0m",
            "\u001b[0;32m/usr/local/lib/python3.6/dist-packages/fastai/model.py\u001b[0m in \u001b[0;36mfit\u001b[0;34m(model, data, epochs, opt, crit, metrics, callbacks, stepper, **kwargs)\u001b[0m\n\u001b[1;32m     91\u001b[0m         \u001b[0mt\u001b[0m \u001b[0;34m=\u001b[0m \u001b[0mtqdm\u001b[0m\u001b[0;34m(\u001b[0m\u001b[0miter\u001b[0m\u001b[0;34m(\u001b[0m\u001b[0mdata\u001b[0m\u001b[0;34m.\u001b[0m\u001b[0mtrn_dl\u001b[0m\u001b[0;34m)\u001b[0m\u001b[0;34m,\u001b[0m \u001b[0mleave\u001b[0m\u001b[0;34m=\u001b[0m\u001b[0;32mFalse\u001b[0m\u001b[0;34m,\u001b[0m \u001b[0mtotal\u001b[0m\u001b[0;34m=\u001b[0m\u001b[0mnum_batch\u001b[0m\u001b[0;34m)\u001b[0m\u001b[0;34m\u001b[0m\u001b[0m\n\u001b[1;32m     92\u001b[0m         \u001b[0mi\u001b[0m \u001b[0;34m=\u001b[0m \u001b[0;36m0\u001b[0m\u001b[0;34m\u001b[0m\u001b[0m\n\u001b[0;32m---> 93\u001b[0;31m         \u001b[0;32mfor\u001b[0m \u001b[0;34m(\u001b[0m\u001b[0;34m*\u001b[0m\u001b[0mx\u001b[0m\u001b[0;34m,\u001b[0m\u001b[0my\u001b[0m\u001b[0;34m)\u001b[0m \u001b[0;32min\u001b[0m \u001b[0mt\u001b[0m\u001b[0;34m:\u001b[0m\u001b[0;34m\u001b[0m\u001b[0m\n\u001b[0m\u001b[1;32m     94\u001b[0m             \u001b[0mbatch_num\u001b[0m \u001b[0;34m+=\u001b[0m \u001b[0;36m1\u001b[0m\u001b[0;34m\u001b[0m\u001b[0m\n\u001b[1;32m     95\u001b[0m             \u001b[0;32mfor\u001b[0m \u001b[0mcb\u001b[0m \u001b[0;32min\u001b[0m \u001b[0mcallbacks\u001b[0m\u001b[0;34m:\u001b[0m \u001b[0mcb\u001b[0m\u001b[0;34m.\u001b[0m\u001b[0mon_batch_begin\u001b[0m\u001b[0;34m(\u001b[0m\u001b[0;34m)\u001b[0m\u001b[0;34m\u001b[0m\u001b[0m\n",
            "\u001b[0;32m/usr/local/lib/python3.6/dist-packages/tqdm/_tqdm.py\u001b[0m in \u001b[0;36m__iter__\u001b[0;34m(self)\u001b[0m\n\u001b[1;32m    895\u001b[0m \"\"\", fp_write=getattr(self.fp, 'write', sys.stderr.write))\n\u001b[1;32m    896\u001b[0m \u001b[0;34m\u001b[0m\u001b[0m\n\u001b[0;32m--> 897\u001b[0;31m             \u001b[0;32mfor\u001b[0m \u001b[0mobj\u001b[0m \u001b[0;32min\u001b[0m \u001b[0miterable\u001b[0m\u001b[0;34m:\u001b[0m\u001b[0;34m\u001b[0m\u001b[0m\n\u001b[0m\u001b[1;32m    898\u001b[0m                 \u001b[0;32myield\u001b[0m \u001b[0mobj\u001b[0m\u001b[0;34m\u001b[0m\u001b[0m\n\u001b[1;32m    899\u001b[0m                 \u001b[0;31m# Update and possibly print the progressbar.\u001b[0m\u001b[0;34m\u001b[0m\u001b[0;34m\u001b[0m\u001b[0m\n",
            "\u001b[0;32m/usr/local/lib/python3.6/dist-packages/fastai/dataloader.py\u001b[0m in \u001b[0;36m__iter__\u001b[0;34m(self)\u001b[0m\n\u001b[1;32m     81\u001b[0m             \u001b[0;32mwith\u001b[0m \u001b[0mThreadPoolExecutor\u001b[0m\u001b[0;34m(\u001b[0m\u001b[0mmax_workers\u001b[0m\u001b[0;34m=\u001b[0m\u001b[0mself\u001b[0m\u001b[0;34m.\u001b[0m\u001b[0mnum_workers\u001b[0m\u001b[0;34m)\u001b[0m \u001b[0;32mas\u001b[0m \u001b[0me\u001b[0m\u001b[0;34m:\u001b[0m\u001b[0;34m\u001b[0m\u001b[0m\n\u001b[1;32m     82\u001b[0m                 \u001b[0;32mfor\u001b[0m \u001b[0mbatch\u001b[0m \u001b[0;32min\u001b[0m \u001b[0me\u001b[0m\u001b[0;34m.\u001b[0m\u001b[0mmap\u001b[0m\u001b[0;34m(\u001b[0m\u001b[0mself\u001b[0m\u001b[0;34m.\u001b[0m\u001b[0mget_batch\u001b[0m\u001b[0;34m,\u001b[0m \u001b[0miter\u001b[0m\u001b[0;34m(\u001b[0m\u001b[0mself\u001b[0m\u001b[0;34m.\u001b[0m\u001b[0mbatch_sampler\u001b[0m\u001b[0;34m)\u001b[0m\u001b[0;34m)\u001b[0m\u001b[0;34m:\u001b[0m\u001b[0;34m\u001b[0m\u001b[0m\n\u001b[0;32m---> 83\u001b[0;31m                     \u001b[0;32myield\u001b[0m \u001b[0mget_tensor\u001b[0m\u001b[0;34m(\u001b[0m\u001b[0mbatch\u001b[0m\u001b[0;34m,\u001b[0m \u001b[0mself\u001b[0m\u001b[0;34m.\u001b[0m\u001b[0mpin_memory\u001b[0m\u001b[0;34m)\u001b[0m\u001b[0;34m\u001b[0m\u001b[0m\n\u001b[0m\u001b[1;32m     84\u001b[0m \u001b[0;34m\u001b[0m\u001b[0m\n",
            "\u001b[0;32m/usr/local/lib/python3.6/dist-packages/fastai/dataloader.py\u001b[0m in \u001b[0;36mget_tensor\u001b[0;34m(batch, pin)\u001b[0m\n\u001b[1;32m     16\u001b[0m         \u001b[0;32mreturn\u001b[0m \u001b[0;34m{\u001b[0m\u001b[0mk\u001b[0m\u001b[0;34m:\u001b[0m \u001b[0mget_tensor\u001b[0m\u001b[0;34m(\u001b[0m\u001b[0msample\u001b[0m\u001b[0;34m,\u001b[0m \u001b[0mpin\u001b[0m\u001b[0;34m)\u001b[0m \u001b[0;32mfor\u001b[0m \u001b[0mk\u001b[0m\u001b[0;34m,\u001b[0m \u001b[0msample\u001b[0m \u001b[0;32min\u001b[0m \u001b[0mbatch\u001b[0m\u001b[0;34m.\u001b[0m\u001b[0mitems\u001b[0m\u001b[0;34m(\u001b[0m\u001b[0;34m)\u001b[0m\u001b[0;34m}\u001b[0m\u001b[0;34m\u001b[0m\u001b[0m\n\u001b[1;32m     17\u001b[0m     \u001b[0;32melif\u001b[0m \u001b[0misinstance\u001b[0m\u001b[0;34m(\u001b[0m\u001b[0mbatch\u001b[0m\u001b[0;34m,\u001b[0m \u001b[0mcollections\u001b[0m\u001b[0;34m.\u001b[0m\u001b[0mSequence\u001b[0m\u001b[0;34m)\u001b[0m\u001b[0;34m:\u001b[0m\u001b[0;34m\u001b[0m\u001b[0m\n\u001b[0;32m---> 18\u001b[0;31m         \u001b[0;32mreturn\u001b[0m \u001b[0;34m[\u001b[0m\u001b[0mget_tensor\u001b[0m\u001b[0;34m(\u001b[0m\u001b[0msample\u001b[0m\u001b[0;34m,\u001b[0m \u001b[0mpin\u001b[0m\u001b[0;34m)\u001b[0m \u001b[0;32mfor\u001b[0m \u001b[0msample\u001b[0m \u001b[0;32min\u001b[0m \u001b[0mbatch\u001b[0m\u001b[0;34m]\u001b[0m\u001b[0;34m\u001b[0m\u001b[0m\n\u001b[0m\u001b[1;32m     19\u001b[0m     raise TypeError(\"batch must contain numbers, dicts or lists; found {}\"\n\u001b[1;32m     20\u001b[0m                      .format(type(batch)))\n",
            "\u001b[0;32m/usr/local/lib/python3.6/dist-packages/fastai/dataloader.py\u001b[0m in \u001b[0;36m<listcomp>\u001b[0;34m(.0)\u001b[0m\n\u001b[1;32m     16\u001b[0m         \u001b[0;32mreturn\u001b[0m \u001b[0;34m{\u001b[0m\u001b[0mk\u001b[0m\u001b[0;34m:\u001b[0m \u001b[0mget_tensor\u001b[0m\u001b[0;34m(\u001b[0m\u001b[0msample\u001b[0m\u001b[0;34m,\u001b[0m \u001b[0mpin\u001b[0m\u001b[0;34m)\u001b[0m \u001b[0;32mfor\u001b[0m \u001b[0mk\u001b[0m\u001b[0;34m,\u001b[0m \u001b[0msample\u001b[0m \u001b[0;32min\u001b[0m \u001b[0mbatch\u001b[0m\u001b[0;34m.\u001b[0m\u001b[0mitems\u001b[0m\u001b[0;34m(\u001b[0m\u001b[0;34m)\u001b[0m\u001b[0;34m}\u001b[0m\u001b[0;34m\u001b[0m\u001b[0m\n\u001b[1;32m     17\u001b[0m     \u001b[0;32melif\u001b[0m \u001b[0misinstance\u001b[0m\u001b[0;34m(\u001b[0m\u001b[0mbatch\u001b[0m\u001b[0;34m,\u001b[0m \u001b[0mcollections\u001b[0m\u001b[0;34m.\u001b[0m\u001b[0mSequence\u001b[0m\u001b[0;34m)\u001b[0m\u001b[0;34m:\u001b[0m\u001b[0;34m\u001b[0m\u001b[0m\n\u001b[0;32m---> 18\u001b[0;31m         \u001b[0;32mreturn\u001b[0m \u001b[0;34m[\u001b[0m\u001b[0mget_tensor\u001b[0m\u001b[0;34m(\u001b[0m\u001b[0msample\u001b[0m\u001b[0;34m,\u001b[0m \u001b[0mpin\u001b[0m\u001b[0;34m)\u001b[0m \u001b[0;32mfor\u001b[0m \u001b[0msample\u001b[0m \u001b[0;32min\u001b[0m \u001b[0mbatch\u001b[0m\u001b[0;34m]\u001b[0m\u001b[0;34m\u001b[0m\u001b[0m\n\u001b[0m\u001b[1;32m     19\u001b[0m     raise TypeError(\"batch must contain numbers, dicts or lists; found {}\"\n\u001b[1;32m     20\u001b[0m                      .format(type(batch)))\n",
            "\u001b[0;32m/usr/local/lib/python3.6/dist-packages/fastai/dataloader.py\u001b[0m in \u001b[0;36mget_tensor\u001b[0;34m(batch, pin)\u001b[0m\n\u001b[1;32m     10\u001b[0m \u001b[0;32mdef\u001b[0m \u001b[0mget_tensor\u001b[0m\u001b[0;34m(\u001b[0m\u001b[0mbatch\u001b[0m\u001b[0;34m,\u001b[0m \u001b[0mpin\u001b[0m\u001b[0;34m)\u001b[0m\u001b[0;34m:\u001b[0m\u001b[0;34m\u001b[0m\u001b[0m\n\u001b[1;32m     11\u001b[0m     \u001b[0;32mif\u001b[0m \u001b[0misinstance\u001b[0m\u001b[0;34m(\u001b[0m\u001b[0mbatch\u001b[0m\u001b[0;34m,\u001b[0m \u001b[0;34m(\u001b[0m\u001b[0mnp\u001b[0m\u001b[0;34m.\u001b[0m\u001b[0mndarray\u001b[0m\u001b[0;34m,\u001b[0m \u001b[0mnp\u001b[0m\u001b[0;34m.\u001b[0m\u001b[0mgeneric\u001b[0m\u001b[0;34m)\u001b[0m\u001b[0;34m)\u001b[0m\u001b[0;34m:\u001b[0m\u001b[0;34m\u001b[0m\u001b[0m\n\u001b[0;32m---> 12\u001b[0;31m         \u001b[0mbatch\u001b[0m \u001b[0;34m=\u001b[0m \u001b[0mT\u001b[0m\u001b[0;34m(\u001b[0m\u001b[0mbatch\u001b[0m\u001b[0;34m)\u001b[0m\u001b[0;34m.\u001b[0m\u001b[0mcontiguous\u001b[0m\u001b[0;34m(\u001b[0m\u001b[0;34m)\u001b[0m\u001b[0;34m\u001b[0m\u001b[0m\n\u001b[0m\u001b[1;32m     13\u001b[0m         \u001b[0;32mreturn\u001b[0m \u001b[0mbatch\u001b[0m\u001b[0;34m.\u001b[0m\u001b[0mpin_memory\u001b[0m\u001b[0;34m(\u001b[0m\u001b[0;34m)\u001b[0m \u001b[0;32mif\u001b[0m \u001b[0mpin\u001b[0m \u001b[0;32melse\u001b[0m \u001b[0mbatch\u001b[0m\u001b[0;34m\u001b[0m\u001b[0m\n\u001b[1;32m     14\u001b[0m     \u001b[0;32melif\u001b[0m \u001b[0misinstance\u001b[0m\u001b[0;34m(\u001b[0m\u001b[0mbatch\u001b[0m\u001b[0;34m,\u001b[0m \u001b[0mstring_classes\u001b[0m\u001b[0;34m)\u001b[0m\u001b[0;34m:\u001b[0m \u001b[0;32mreturn\u001b[0m \u001b[0mbatch\u001b[0m\u001b[0;34m\u001b[0m\u001b[0m\n",
            "\u001b[0;32m/usr/local/lib/python3.6/dist-packages/fastai/core.py\u001b[0m in \u001b[0;36mT\u001b[0;34m(a)\u001b[0m\n\u001b[1;32m     20\u001b[0m             \u001b[0mres\u001b[0m \u001b[0;34m=\u001b[0m \u001b[0mtorch\u001b[0m\u001b[0;34m.\u001b[0m\u001b[0mFloatTensor\u001b[0m\u001b[0;34m(\u001b[0m\u001b[0ma\u001b[0m\u001b[0;34m.\u001b[0m\u001b[0mastype\u001b[0m\u001b[0;34m(\u001b[0m\u001b[0mnp\u001b[0m\u001b[0;34m.\u001b[0m\u001b[0mfloat32\u001b[0m\u001b[0;34m)\u001b[0m\u001b[0;34m)\u001b[0m\u001b[0;34m\u001b[0m\u001b[0m\n\u001b[1;32m     21\u001b[0m         \u001b[0;32melse\u001b[0m\u001b[0;34m:\u001b[0m \u001b[0;32mraise\u001b[0m \u001b[0mNotImplementedError\u001b[0m\u001b[0;34m(\u001b[0m\u001b[0ma\u001b[0m\u001b[0;34m.\u001b[0m\u001b[0mdtype\u001b[0m\u001b[0;34m)\u001b[0m\u001b[0;34m\u001b[0m\u001b[0m\n\u001b[0;32m---> 22\u001b[0;31m     \u001b[0;32mreturn\u001b[0m \u001b[0mto_gpu\u001b[0m\u001b[0;34m(\u001b[0m\u001b[0mres\u001b[0m\u001b[0;34m,\u001b[0m \u001b[0masync\u001b[0m\u001b[0;34m=\u001b[0m\u001b[0;32mTrue\u001b[0m\u001b[0;34m)\u001b[0m\u001b[0;34m\u001b[0m\u001b[0m\n\u001b[0m\u001b[1;32m     23\u001b[0m \u001b[0;34m\u001b[0m\u001b[0m\n\u001b[1;32m     24\u001b[0m \u001b[0;32mdef\u001b[0m \u001b[0mcreate_variable\u001b[0m\u001b[0;34m(\u001b[0m\u001b[0mx\u001b[0m\u001b[0;34m,\u001b[0m \u001b[0mvolatile\u001b[0m\u001b[0;34m,\u001b[0m \u001b[0mrequires_grad\u001b[0m\u001b[0;34m=\u001b[0m\u001b[0;32mFalse\u001b[0m\u001b[0;34m)\u001b[0m\u001b[0;34m:\u001b[0m\u001b[0;34m\u001b[0m\u001b[0m\n",
            "\u001b[0;32m/usr/local/lib/python3.6/dist-packages/fastai/core.py\u001b[0m in \u001b[0;36mto_gpu\u001b[0;34m(x, *args, **kwargs)\u001b[0m\n\u001b[1;32m     43\u001b[0m \u001b[0mUSE_GPU\u001b[0m\u001b[0;34m=\u001b[0m\u001b[0;32mTrue\u001b[0m\u001b[0;34m\u001b[0m\u001b[0m\n\u001b[1;32m     44\u001b[0m \u001b[0;32mdef\u001b[0m \u001b[0mto_gpu\u001b[0m\u001b[0;34m(\u001b[0m\u001b[0mx\u001b[0m\u001b[0;34m,\u001b[0m \u001b[0;34m*\u001b[0m\u001b[0margs\u001b[0m\u001b[0;34m,\u001b[0m \u001b[0;34m**\u001b[0m\u001b[0mkwargs\u001b[0m\u001b[0;34m)\u001b[0m\u001b[0;34m:\u001b[0m\u001b[0;34m\u001b[0m\u001b[0m\n\u001b[0;32m---> 45\u001b[0;31m     \u001b[0;32mreturn\u001b[0m \u001b[0mx\u001b[0m\u001b[0;34m.\u001b[0m\u001b[0mcuda\u001b[0m\u001b[0;34m(\u001b[0m\u001b[0;34m*\u001b[0m\u001b[0margs\u001b[0m\u001b[0;34m,\u001b[0m \u001b[0;34m**\u001b[0m\u001b[0mkwargs\u001b[0m\u001b[0;34m)\u001b[0m \u001b[0;32mif\u001b[0m \u001b[0mtorch\u001b[0m\u001b[0;34m.\u001b[0m\u001b[0mcuda\u001b[0m\u001b[0;34m.\u001b[0m\u001b[0mis_available\u001b[0m\u001b[0;34m(\u001b[0m\u001b[0;34m)\u001b[0m \u001b[0;32mand\u001b[0m \u001b[0mUSE_GPU\u001b[0m \u001b[0;32melse\u001b[0m \u001b[0mx\u001b[0m\u001b[0;34m\u001b[0m\u001b[0m\n\u001b[0m\u001b[1;32m     46\u001b[0m \u001b[0;34m\u001b[0m\u001b[0m\n\u001b[1;32m     47\u001b[0m \u001b[0;32mdef\u001b[0m \u001b[0mnoop\u001b[0m\u001b[0;34m(\u001b[0m\u001b[0;34m*\u001b[0m\u001b[0margs\u001b[0m\u001b[0;34m,\u001b[0m \u001b[0;34m**\u001b[0m\u001b[0mkwargs\u001b[0m\u001b[0;34m)\u001b[0m\u001b[0;34m:\u001b[0m \u001b[0;32mreturn\u001b[0m\u001b[0;34m\u001b[0m\u001b[0m\n",
            "\u001b[0;32m/usr/local/lib/python3.6/dist-packages/torch/_utils.py\u001b[0m in \u001b[0;36m_cuda\u001b[0;34m(self, device, async)\u001b[0m\n\u001b[1;32m     67\u001b[0m         \u001b[0;32melse\u001b[0m\u001b[0;34m:\u001b[0m\u001b[0;34m\u001b[0m\u001b[0m\n\u001b[1;32m     68\u001b[0m             \u001b[0mnew_type\u001b[0m \u001b[0;34m=\u001b[0m \u001b[0mgetattr\u001b[0m\u001b[0;34m(\u001b[0m\u001b[0mtorch\u001b[0m\u001b[0;34m.\u001b[0m\u001b[0mcuda\u001b[0m\u001b[0;34m,\u001b[0m \u001b[0mself\u001b[0m\u001b[0;34m.\u001b[0m\u001b[0m__class__\u001b[0m\u001b[0;34m.\u001b[0m\u001b[0m__name__\u001b[0m\u001b[0;34m)\u001b[0m\u001b[0;34m\u001b[0m\u001b[0m\n\u001b[0;32m---> 69\u001b[0;31m             \u001b[0;32mreturn\u001b[0m \u001b[0mnew_type\u001b[0m\u001b[0;34m(\u001b[0m\u001b[0mself\u001b[0m\u001b[0;34m.\u001b[0m\u001b[0msize\u001b[0m\u001b[0;34m(\u001b[0m\u001b[0;34m)\u001b[0m\u001b[0;34m)\u001b[0m\u001b[0;34m.\u001b[0m\u001b[0mcopy_\u001b[0m\u001b[0;34m(\u001b[0m\u001b[0mself\u001b[0m\u001b[0;34m,\u001b[0m \u001b[0masync\u001b[0m\u001b[0;34m)\u001b[0m\u001b[0;34m\u001b[0m\u001b[0m\n\u001b[0m\u001b[1;32m     70\u001b[0m \u001b[0;34m\u001b[0m\u001b[0m\n\u001b[1;32m     71\u001b[0m \u001b[0;34m\u001b[0m\u001b[0m\n",
            "\u001b[0;31mRuntimeError\u001b[0m: cuda runtime error (59) : device-side assert triggered at /pytorch/torch/lib/THC/generic/THCTensorCopy.c:132"
          ]
        }
      ]
    },
    {
      "metadata": {
        "id": "eOw8Jb8vy0Jh",
        "colab_type": "text"
      },
      "cell_type": "markdown",
      "source": [
        "### Bias"
      ]
    },
    {
      "metadata": {
        "id": "Hcc7iwf4y0Jk",
        "colab_type": "code",
        "colab": {},
        "outputId": "667147e7-f91d-4f5c-f5c7-f16af207ec07"
      },
      "cell_type": "code",
      "source": [
        "min_rating,max_rating = ratings1.is_open.min(),ratings1.is_open.max()\n",
        "min_rating,max_rating"
      ],
      "execution_count": 0,
      "outputs": [
        {
          "output_type": "execute_result",
          "data": {
            "text/plain": [
              "(0.5, 5.0)"
            ]
          },
          "metadata": {
            "tags": []
          },
          "execution_count": 17
        }
      ]
    },
    {
      "metadata": {
        "id": "QTqbcsuFy0J5",
        "colab_type": "code",
        "colab": {}
      },
      "cell_type": "code",
      "source": [
        "def get_emb(ni,nf):\n",
        "    e = nn.Embedding(ni, nf)\n",
        "    e.weight.data.uniform_(-0.01,0.01)\n",
        "    return e\n",
        "\n",
        "class EmbeddingDotBias(nn.Module):\n",
        "    def __init__(self, n_users, n_movies):\n",
        "        super().__init__()\n",
        "        (self.u, self.m, self.ub, self.mb) = [get_emb(*o) for o in [\n",
        "            (n_users, n_factors), (n_movies, n_factors), (n_users,1), (n_movies,1)\n",
        "        ]]\n",
        "        \n",
        "    def forward(self, cats, conts):\n",
        "        users,movies = cats[:,0],cats[:,1]\n",
        "        um = (self.u(users)* self.m(movies)).sum(1)\n",
        "        res = um + self.ub(users).squeeze() + self.mb(movies).squeeze()\n",
        "        res = F.sigmoid(res) * (max_rating-min_rating) + min_rating\n",
        "        return res"
      ],
      "execution_count": 0,
      "outputs": []
    },
    {
      "metadata": {
        "id": "SSydhsFWy0J_",
        "colab_type": "code",
        "colab": {}
      },
      "cell_type": "code",
      "source": [
        "wd=2e-4\n",
        "model = EmbeddingDotBias(cf.n_users, cf.n_items).cuda()\n",
        "opt = optim.SGD(model.parameters(), 1e-1, weight_decay=wd, momentum=0.9)"
      ],
      "execution_count": 0,
      "outputs": []
    },
    {
      "metadata": {
        "id": "zw-MoQvMy0KM",
        "colab_type": "code",
        "colab": {},
        "outputId": "52a2d537-1fde-4f09-acf4-65979138a8f5"
      },
      "cell_type": "code",
      "source": [
        "fit(model, data, 3, opt, F.mse_loss)"
      ],
      "execution_count": 0,
      "outputs": [
        {
          "output_type": "display_data",
          "data": {
            "application/vnd.jupyter.widget-view+json": {
              "model_id": "95093026b28a415783ac620cc5ade85e",
              "version_major": 2,
              "version_minor": 0
            },
            "text/plain": [
              "A Jupyter Widget"
            ]
          },
          "metadata": {
            "tags": []
          }
        },
        {
          "output_type": "stream",
          "text": [
            "[ 0.       0.88212  0.83626]                                    \n",
            "[ 1.       0.8108   0.81831]                                    \n",
            "[ 2.       0.78864  0.80989]                                    \n",
            "\n"
          ],
          "name": "stdout"
        }
      ]
    },
    {
      "metadata": {
        "id": "Fsn26MzHy0Ke",
        "colab_type": "code",
        "colab": {}
      },
      "cell_type": "code",
      "source": [
        "set_lrs(opt, 1e-2)"
      ],
      "execution_count": 0,
      "outputs": []
    },
    {
      "metadata": {
        "id": "we2zzdh3y0Kl",
        "colab_type": "code",
        "colab": {},
        "outputId": "385e1c49-557c-45fe-b607-e4804b1577f9"
      },
      "cell_type": "code",
      "source": [
        "fit(model, data, 3, opt, F.mse_loss)"
      ],
      "execution_count": 0,
      "outputs": [
        {
          "output_type": "display_data",
          "data": {
            "application/vnd.jupyter.widget-view+json": {
              "model_id": "4ab6c0fd5887430b9b5f0cda8f8a1772",
              "version_major": 2,
              "version_minor": 0
            },
            "text/plain": [
              "A Jupyter Widget"
            ]
          },
          "metadata": {
            "tags": []
          }
        },
        {
          "output_type": "stream",
          "text": [
            "[ 0.       0.72795  0.80337]                                    \n",
            "[ 1.       0.75064  0.80203]                                    \n",
            "[ 2.       0.75122  0.80124]                                    \n",
            "\n"
          ],
          "name": "stdout"
        }
      ]
    },
    {
      "metadata": {
        "id": "iJuNp41ny0Kv",
        "colab_type": "text"
      },
      "cell_type": "markdown",
      "source": [
        "### Mini net"
      ]
    },
    {
      "metadata": {
        "id": "NZMYAO8Zy0Kz",
        "colab_type": "code",
        "colab": {}
      },
      "cell_type": "code",
      "source": [
        "class EmbeddingNet(nn.Module):\n",
        "    def __init__(self, n_users, n_movies, nh=10, p1=0.05, p2=0.5):\n",
        "        super().__init__()\n",
        "        (self.u, self.m) = [get_emb(*o) for o in [\n",
        "            (n_users, n_factors), (n_movies, n_factors)]]\n",
        "        self.lin1 = nn.Linear(n_factors*2, nh)\n",
        "        self.lin2 = nn.Linear(nh, 1)\n",
        "        self.drop1 = nn.Dropout(p1)\n",
        "        self.drop2 = nn.Dropout(p2)\n",
        "        \n",
        "    def forward(self, cats, conts):\n",
        "        users,movies = cats[:,0],cats[:,1]\n",
        "        x = self.drop1(torch.cat([self.u(users),self.m(movies)], dim=1))\n",
        "        x = self.drop2(F.relu(self.lin1(x)))\n",
        "        return F.sigmoid(self.lin2(x)) * (max_rating-min_rating+1) + min_rating-0.5"
      ],
      "execution_count": 0,
      "outputs": []
    },
    {
      "metadata": {
        "id": "ydA8Z5D6y0K6",
        "colab_type": "code",
        "colab": {}
      },
      "cell_type": "code",
      "source": [
        "wd=1e-5\n",
        "model = EmbeddingNet(n_users, n_movies).cuda()\n",
        "opt = optim.Adam(model.parameters(), 1e-3, weight_decay=wd)"
      ],
      "execution_count": 0,
      "outputs": []
    },
    {
      "metadata": {
        "id": "uzRejO_xy0K-",
        "colab_type": "code",
        "colab": {},
        "outputId": "6f486749-a0e9-40cf-f011-7f97d27fa12d"
      },
      "cell_type": "code",
      "source": [
        "fit(model, data, 3, opt, F.mse_loss)"
      ],
      "execution_count": 0,
      "outputs": [
        {
          "output_type": "display_data",
          "data": {
            "application/vnd.jupyter.widget-view+json": {
              "model_id": "0ca8d1c156c9403fab6adec1f863786d",
              "version_major": 2,
              "version_minor": 0
            },
            "text/plain": [
              "A Jupyter Widget"
            ]
          },
          "metadata": {
            "tags": []
          }
        },
        {
          "output_type": "stream",
          "text": [
            "[ 0.       0.88043  0.82363]                                    \n",
            "[ 1.       0.8941   0.81264]                                    \n",
            "[ 2.       0.86179  0.80706]                                    \n",
            "\n"
          ],
          "name": "stdout"
        }
      ]
    },
    {
      "metadata": {
        "id": "UTJXehsAy0LF",
        "colab_type": "code",
        "colab": {}
      },
      "cell_type": "code",
      "source": [
        "set_lrs(opt, 1e-3)"
      ],
      "execution_count": 0,
      "outputs": []
    },
    {
      "metadata": {
        "id": "FysqKFhry0LH",
        "colab_type": "code",
        "colab": {},
        "outputId": "919ee4ba-494a-43c5-e67a-62e65ffbc6f1"
      },
      "cell_type": "code",
      "source": [
        "fit(model, data, 3, opt, F.mse_loss)"
      ],
      "execution_count": 0,
      "outputs": [
        {
          "output_type": "display_data",
          "data": {
            "application/vnd.jupyter.widget-view+json": {
              "model_id": "9d4c659d07b543b796fe37c789daebad",
              "version_major": 2,
              "version_minor": 0
            },
            "text/plain": [
              "A Jupyter Widget"
            ]
          },
          "metadata": {
            "tags": []
          }
        },
        {
          "output_type": "stream",
          "text": [
            "[ 0.       0.7669   0.78622]                                    \n",
            "[ 1.       0.74277  0.78152]                                    \n",
            "[ 2.       0.69891  0.78075]                                    \n",
            "\n"
          ],
          "name": "stdout"
        }
      ]
    },
    {
      "metadata": {
        "id": "0uydh4n9y0LN",
        "colab_type": "code",
        "colab": {}
      },
      "cell_type": "code",
      "source": [
        ""
      ],
      "execution_count": 0,
      "outputs": []
    }
  ]
}